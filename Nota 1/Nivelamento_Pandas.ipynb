{
  "nbformat": 4,
  "nbformat_minor": 0,
  "metadata": {
    "kernelspec": {
      "display_name": "Python 3",
      "language": "python",
      "name": "python3"
    },
    "language_info": {
      "codemirror_mode": {
        "name": "ipython",
        "version": 3
      },
      "file_extension": ".py",
      "mimetype": "text/x-python",
      "name": "python",
      "nbconvert_exporter": "python",
      "pygments_lexer": "ipython3",
      "version": "3.5.2"
    },
    "colab": {
      "name": "Nivelamento Pandas.ipynb",
      "version": "0.3.2",
      "provenance": [],
      "collapsed_sections": [],
      "toc_visible": true
    }
  },
  "cells": [
    {
      "cell_type": "markdown",
      "metadata": {
        "id": "weX9iRg9ABtR",
        "colab_type": "text"
      },
      "source": [
        "# Pandas"
      ]
    },
    {
      "cell_type": "markdown",
      "metadata": {
        "id": "-iH3-OxwABtV",
        "colab_type": "text"
      },
      "source": [
        "Pandas é uma biblioteca poderosa e fácil de usar pra fazer análise de dados. Basicamente, ela tem dois tipos principais de objetos pra representar dados: **Series** e **DataFrames**. "
      ]
    },
    {
      "cell_type": "code",
      "metadata": {
        "id": "yAENP3CeABtc",
        "colab_type": "code",
        "colab": {}
      },
      "source": [
        "import pandas as pd\n",
        "import numpy as np"
      ],
      "execution_count": 0,
      "outputs": []
    },
    {
      "cell_type": "markdown",
      "metadata": {
        "id": "nx_KyAlYABtf",
        "colab_type": "text"
      },
      "source": [
        "# Series "
      ]
    },
    {
      "cell_type": "markdown",
      "metadata": {
        "id": "js4hPLdZABtg",
        "colab_type": "text"
      },
      "source": [
        "**Series** se comportam como objetos do tipo array."
      ]
    },
    {
      "cell_type": "markdown",
      "metadata": {
        "id": "EO8WGxQ5ABth",
        "colab_type": "text"
      },
      "source": [
        "### pd.Series(self, data=None, index=None, dtype=None, name=None, copy=False, fastpath=False)"
      ]
    },
    {
      "cell_type": "code",
      "metadata": {
        "id": "GvzvrCcsABth",
        "colab_type": "code",
        "outputId": "01346094-972c-4e6c-d6ae-7326b2664171",
        "colab": {
          "base_uri": "https://localhost:8080/",
          "height": 119
        }
      },
      "source": [
        "x = pd.Series([1,2,3,4,5])\n",
        "x"
      ],
      "execution_count": 0,
      "outputs": [
        {
          "output_type": "execute_result",
          "data": {
            "text/plain": [
              "0    1\n",
              "1    2\n",
              "2    3\n",
              "3    4\n",
              "4    5\n",
              "dtype: int64"
            ]
          },
          "metadata": {
            "tags": []
          },
          "execution_count": 3
        }
      ]
    },
    {
      "cell_type": "markdown",
      "metadata": {
        "id": "_QEiiAXkABtl",
        "colab_type": "text"
      },
      "source": [
        "Note que um *index* é gerado para cada item."
      ]
    },
    {
      "cell_type": "markdown",
      "metadata": {
        "id": "94x9oTJrABtm",
        "colab_type": "text"
      },
      "source": [
        "## Operações Básicas"
      ]
    },
    {
      "cell_type": "code",
      "metadata": {
        "id": "OoihrMKNABtn",
        "colab_type": "code",
        "outputId": "d0228dea-7e91-416e-96e4-11e4cc83f219",
        "colab": {
          "base_uri": "https://localhost:8080/",
          "height": 119
        }
      },
      "source": [
        "x + 100"
      ],
      "execution_count": 0,
      "outputs": [
        {
          "output_type": "execute_result",
          "data": {
            "text/plain": [
              "0    101\n",
              "1    102\n",
              "2    103\n",
              "3    104\n",
              "4    105\n",
              "dtype: int64"
            ]
          },
          "metadata": {
            "tags": []
          },
          "execution_count": 4
        }
      ]
    },
    {
      "cell_type": "code",
      "metadata": {
        "id": "B1RYgGmvABtp",
        "colab_type": "code",
        "outputId": "0f849da8-0ffe-480c-e1cf-5b532c05ec7c",
        "colab": {
          "base_uri": "https://localhost:8080/",
          "height": 119
        }
      },
      "source": [
        "(x ** 2) + 100"
      ],
      "execution_count": 0,
      "outputs": [
        {
          "output_type": "execute_result",
          "data": {
            "text/plain": [
              "0    101\n",
              "1    104\n",
              "2    109\n",
              "3    116\n",
              "4    125\n",
              "dtype: int64"
            ]
          },
          "metadata": {
            "tags": []
          },
          "execution_count": 5
        }
      ]
    },
    {
      "cell_type": "code",
      "metadata": {
        "id": "FTJS7PBSABtr",
        "colab_type": "code",
        "outputId": "3ed7f587-0cb3-46f4-941c-233695e6b064",
        "colab": {
          "base_uri": "https://localhost:8080/",
          "height": 119
        }
      },
      "source": [
        "x > 2"
      ],
      "execution_count": 0,
      "outputs": [
        {
          "output_type": "execute_result",
          "data": {
            "text/plain": [
              "0    False\n",
              "1    False\n",
              "2     True\n",
              "3     True\n",
              "4     True\n",
              "dtype: bool"
            ]
          },
          "metadata": {
            "tags": []
          },
          "execution_count": 6
        }
      ]
    },
    {
      "cell_type": "code",
      "metadata": {
        "id": "5yiJXPkyABtu",
        "colab_type": "code",
        "outputId": "abdf2334-e16a-44be-b5b0-0c1863d6bc77",
        "colab": {
          "base_uri": "https://localhost:8080/",
          "height": 102
        }
      },
      "source": [
        "s1 = pd.Series([1, 2, 3, 4], index=['a', 'b', 'c', 'd'])\n",
        "s2 = pd.Series([10, 20, 30, 40], index=['a', 'b', 'c', 'd'])\n",
        "s1 + s2"
      ],
      "execution_count": 0,
      "outputs": [
        {
          "output_type": "execute_result",
          "data": {
            "text/plain": [
              "a    11\n",
              "b    22\n",
              "c    33\n",
              "d    44\n",
              "dtype: int64"
            ]
          },
          "metadata": {
            "tags": []
          },
          "execution_count": 7
        }
      ]
    },
    {
      "cell_type": "code",
      "metadata": {
        "id": "jSCnAIPwABtw",
        "colab_type": "code",
        "outputId": "de78c385-60b1-4d4a-c32b-a2239c32fd94",
        "colab": {
          "base_uri": "https://localhost:8080/",
          "height": 102
        }
      },
      "source": [
        "s1 = pd.Series([1, 2, 3, 4], index=['a', 'b', 'c', 'd'])\n",
        "s2 = pd.Series([10, 20, 30, 40], index=['b', 'd', 'a', 'c'])\n",
        "s1 + s2"
      ],
      "execution_count": 0,
      "outputs": [
        {
          "output_type": "execute_result",
          "data": {
            "text/plain": [
              "a    31\n",
              "b    12\n",
              "c    43\n",
              "d    24\n",
              "dtype: int64"
            ]
          },
          "metadata": {
            "tags": []
          },
          "execution_count": 8
        }
      ]
    },
    {
      "cell_type": "code",
      "metadata": {
        "id": "zNZBGOddABtz",
        "colab_type": "code",
        "outputId": "c4f53aa2-78d4-4545-e8b2-473597e71ad2",
        "colab": {
          "base_uri": "https://localhost:8080/",
          "height": 136
        }
      },
      "source": [
        "s1 = pd.Series([1, 2, 3, 4], index=['a', 'b', 'c', 'd'])\n",
        "s2 = pd.Series([10, 20, 30, 40], index=['c', 'd', 'e', 'f'])\n",
        "s1 + s2"
      ],
      "execution_count": 0,
      "outputs": [
        {
          "output_type": "execute_result",
          "data": {
            "text/plain": [
              "a     NaN\n",
              "b     NaN\n",
              "c    13.0\n",
              "d    24.0\n",
              "e     NaN\n",
              "f     NaN\n",
              "dtype: float64"
            ]
          },
          "metadata": {
            "tags": []
          },
          "execution_count": 9
        }
      ]
    },
    {
      "cell_type": "code",
      "metadata": {
        "id": "BFzE6cyWABt1",
        "colab_type": "code",
        "outputId": "f10b1ef5-f68b-4db7-cda0-a496e58663cb",
        "colab": {
          "base_uri": "https://localhost:8080/",
          "height": 170
        }
      },
      "source": [
        "s1 = pd.Series([1, 2, 3, 4], index=['a', 'b', 'c', 'd'])\n",
        "s2 = pd.Series([10, 20, 30, 40], index=['e', 'f', 'g', 'h'])\n",
        "s1 + s2"
      ],
      "execution_count": 0,
      "outputs": [
        {
          "output_type": "execute_result",
          "data": {
            "text/plain": [
              "a   NaN\n",
              "b   NaN\n",
              "c   NaN\n",
              "d   NaN\n",
              "e   NaN\n",
              "f   NaN\n",
              "g   NaN\n",
              "h   NaN\n",
              "dtype: float64"
            ]
          },
          "metadata": {
            "tags": []
          },
          "execution_count": 10
        }
      ]
    },
    {
      "cell_type": "markdown",
      "metadata": {
        "id": "eToHrpHpABt4",
        "colab_type": "text"
      },
      "source": [
        "### any() and all()"
      ]
    },
    {
      "cell_type": "code",
      "metadata": {
        "id": "iwvmqh1VABt4",
        "colab_type": "code",
        "outputId": "a2f7d43c-314e-4236-cb83-3c5625a00fbf",
        "colab": {
          "base_uri": "https://localhost:8080/",
          "height": 119
        }
      },
      "source": [
        "larger_than_2 = x > 2\n",
        "larger_than_2"
      ],
      "execution_count": 0,
      "outputs": [
        {
          "output_type": "execute_result",
          "data": {
            "text/plain": [
              "0    False\n",
              "1    False\n",
              "2     True\n",
              "3     True\n",
              "4     True\n",
              "dtype: bool"
            ]
          },
          "metadata": {
            "tags": []
          },
          "execution_count": 11
        }
      ]
    },
    {
      "cell_type": "code",
      "metadata": {
        "id": "LX8otatpABt6",
        "colab_type": "code",
        "outputId": "dccc103b-00a4-4553-f5a1-6756fd3ddf4c",
        "colab": {
          "base_uri": "https://localhost:8080/",
          "height": 34
        }
      },
      "source": [
        "larger_than_2.any()"
      ],
      "execution_count": 0,
      "outputs": [
        {
          "output_type": "execute_result",
          "data": {
            "text/plain": [
              "True"
            ]
          },
          "metadata": {
            "tags": []
          },
          "execution_count": 12
        }
      ]
    },
    {
      "cell_type": "code",
      "metadata": {
        "id": "dbgJ7BPGABt9",
        "colab_type": "code",
        "outputId": "af1f0f18-6b64-4a84-a2bf-e072a48e774a",
        "colab": {
          "base_uri": "https://localhost:8080/",
          "height": 34
        }
      },
      "source": [
        "larger_than_2.all()"
      ],
      "execution_count": 0,
      "outputs": [
        {
          "output_type": "execute_result",
          "data": {
            "text/plain": [
              "False"
            ]
          },
          "metadata": {
            "tags": []
          },
          "execution_count": 13
        }
      ]
    },
    {
      "cell_type": "markdown",
      "metadata": {
        "id": "8tQV5PdhABt_",
        "colab_type": "text"
      },
      "source": [
        "### apply()"
      ]
    },
    {
      "cell_type": "code",
      "metadata": {
        "id": "flfK4YJXABuA",
        "colab_type": "code",
        "outputId": "ade2717d-9f4f-4a9e-a153-50663ecb8957",
        "colab": {
          "base_uri": "https://localhost:8080/",
          "height": 119
        }
      },
      "source": [
        "def f(x):\n",
        "    if x % 2 == 0:\n",
        "        return x * 2\n",
        "    else:\n",
        "        return x * 3\n",
        "\n",
        "x.apply(f)"
      ],
      "execution_count": 0,
      "outputs": [
        {
          "output_type": "execute_result",
          "data": {
            "text/plain": [
              "0     3\n",
              "1     4\n",
              "2     9\n",
              "3     8\n",
              "4    15\n",
              "dtype: int64"
            ]
          },
          "metadata": {
            "tags": []
          },
          "execution_count": 14
        }
      ]
    },
    {
      "cell_type": "markdown",
      "metadata": {
        "id": "39qFvOaEABuC",
        "colab_type": "text"
      },
      "source": [
        "**Evite *for* explícitos sobre os seus dados**\n",
        "\n",
        "Vamos comparar o tempo do *apply()* e de um *for loop*."
      ]
    },
    {
      "cell_type": "code",
      "metadata": {
        "id": "TFPZpq35ABuD",
        "colab_type": "code",
        "outputId": "e8f06249-ffd6-4195-8d26-29b62e7f85e3",
        "colab": {
          "base_uri": "https://localhost:8080/",
          "height": 34
        }
      },
      "source": [
        "%%timeit\n",
        "\n",
        "ds = pd.Series(range(10000))\n",
        "\n",
        "for counter in range(len(ds)):\n",
        "    ds[counter] = f(ds[counter])"
      ],
      "execution_count": 0,
      "outputs": [
        {
          "output_type": "stream",
          "text": [
            "10 loops, best of 3: 165 ms per loop\n"
          ],
          "name": "stdout"
        }
      ]
    },
    {
      "cell_type": "code",
      "metadata": {
        "id": "iCJpgh6DABuF",
        "colab_type": "code",
        "outputId": "2a84c9f0-13be-405f-ae8a-93559df420e7",
        "colab": {
          "base_uri": "https://localhost:8080/",
          "height": 34
        }
      },
      "source": [
        "%%timeit\n",
        "\n",
        "ds = pd.Series(range(10000))\n",
        "ds.apply(f)"
      ],
      "execution_count": 0,
      "outputs": [
        {
          "output_type": "stream",
          "text": [
            "100 loops, best of 3: 4.94 ms per loop\n"
          ],
          "name": "stdout"
        }
      ]
    },
    {
      "cell_type": "markdown",
      "metadata": {
        "id": "O7a_gqtCABuI",
        "colab_type": "text"
      },
      "source": [
        "### astype()"
      ]
    },
    {
      "cell_type": "code",
      "metadata": {
        "id": "-uwovd-eABuI",
        "colab_type": "code",
        "outputId": "3d2fb2cb-2fee-44aa-cc3d-90099b9233a0",
        "colab": {
          "base_uri": "https://localhost:8080/",
          "height": 119
        }
      },
      "source": [
        "x.astype(pd.np.float64)"
      ],
      "execution_count": 0,
      "outputs": [
        {
          "output_type": "execute_result",
          "data": {
            "text/plain": [
              "0    1.0\n",
              "1    2.0\n",
              "2    3.0\n",
              "3    4.0\n",
              "4    5.0\n",
              "dtype: float64"
            ]
          },
          "metadata": {
            "tags": []
          },
          "execution_count": 17
        }
      ]
    },
    {
      "cell_type": "markdown",
      "metadata": {
        "id": "PsPEMymYABuM",
        "colab_type": "text"
      },
      "source": [
        "### copy()"
      ]
    },
    {
      "cell_type": "code",
      "metadata": {
        "id": "ye7H9_TUABuN",
        "colab_type": "code",
        "colab": {}
      },
      "source": [
        "y = x"
      ],
      "execution_count": 0,
      "outputs": []
    },
    {
      "cell_type": "code",
      "metadata": {
        "id": "RBs6rqMSABuS",
        "colab_type": "code",
        "outputId": "25551413-15b4-4ad4-be73-d3d1a68fe00b",
        "colab": {
          "base_uri": "https://localhost:8080/",
          "height": 34
        }
      },
      "source": [
        "y[0]"
      ],
      "execution_count": 0,
      "outputs": [
        {
          "output_type": "execute_result",
          "data": {
            "text/plain": [
              "1"
            ]
          },
          "metadata": {
            "tags": []
          },
          "execution_count": 19
        }
      ]
    },
    {
      "cell_type": "code",
      "metadata": {
        "id": "46KnLqFlABuV",
        "colab_type": "code",
        "colab": {}
      },
      "source": [
        "y[0] = 100"
      ],
      "execution_count": 0,
      "outputs": []
    },
    {
      "cell_type": "code",
      "metadata": {
        "id": "WPhTrYVMABuX",
        "colab_type": "code",
        "outputId": "fda609dc-01b2-4228-8079-d11060010b02",
        "colab": {
          "base_uri": "https://localhost:8080/",
          "height": 119
        }
      },
      "source": [
        "y"
      ],
      "execution_count": 0,
      "outputs": [
        {
          "output_type": "execute_result",
          "data": {
            "text/plain": [
              "0    100\n",
              "1      2\n",
              "2      3\n",
              "3      4\n",
              "4      5\n",
              "dtype: int64"
            ]
          },
          "metadata": {
            "tags": []
          },
          "execution_count": 21
        }
      ]
    },
    {
      "cell_type": "code",
      "metadata": {
        "id": "9rCz3VyGABuZ",
        "colab_type": "code",
        "outputId": "23938196-2c13-497f-d0f8-a46c56dbb9ad",
        "colab": {
          "base_uri": "https://localhost:8080/",
          "height": 119
        }
      },
      "source": [
        "x"
      ],
      "execution_count": 0,
      "outputs": [
        {
          "output_type": "execute_result",
          "data": {
            "text/plain": [
              "0    100\n",
              "1      2\n",
              "2      3\n",
              "3      4\n",
              "4      5\n",
              "dtype: int64"
            ]
          },
          "metadata": {
            "tags": []
          },
          "execution_count": 22
        }
      ]
    },
    {
      "cell_type": "markdown",
      "metadata": {
        "id": "4FRHru-0ABud",
        "colab_type": "text"
      },
      "source": [
        "**Evite usar *copy* para economia de memória (se você puder)**"
      ]
    },
    {
      "cell_type": "code",
      "metadata": {
        "id": "uQ2IghkYABud",
        "colab_type": "code",
        "outputId": "2e643607-7841-4d2e-c146-7d501b49bb4f",
        "colab": {
          "base_uri": "https://localhost:8080/",
          "height": 221
        }
      },
      "source": [
        "y = x.copy()\n",
        "x[0] = 1\n",
        "print(x,y, sep='\\n')"
      ],
      "execution_count": 0,
      "outputs": [
        {
          "output_type": "stream",
          "text": [
            "0    1\n",
            "1    2\n",
            "2    3\n",
            "3    4\n",
            "4    5\n",
            "dtype: int64\n",
            "0    100\n",
            "1      2\n",
            "2      3\n",
            "3      4\n",
            "4      5\n",
            "dtype: int64\n"
          ],
          "name": "stdout"
        }
      ]
    },
    {
      "cell_type": "code",
      "metadata": {
        "id": "DTc1jAanABuf",
        "colab_type": "code",
        "outputId": "faca7819-8982-4719-c3d1-0101e6f4fe5d",
        "colab": {
          "base_uri": "https://localhost:8080/",
          "height": 170
        }
      },
      "source": [
        "x.describe(percentiles=[0.25,0.5,0.75])"
      ],
      "execution_count": 0,
      "outputs": [
        {
          "output_type": "execute_result",
          "data": {
            "text/plain": [
              "count    5.000000\n",
              "mean     3.000000\n",
              "std      1.581139\n",
              "min      1.000000\n",
              "25%      2.000000\n",
              "50%      3.000000\n",
              "75%      4.000000\n",
              "max      5.000000\n",
              "dtype: float64"
            ]
          },
          "metadata": {
            "tags": []
          },
          "execution_count": 24
        }
      ]
    },
    {
      "cell_type": "code",
      "metadata": {
        "id": "M-PuwmYMABuj",
        "colab_type": "code",
        "outputId": "0353d047-4435-4791-a98f-b0b19a2bb8ed",
        "colab": {
          "base_uri": "https://localhost:8080/",
          "height": 286
        }
      },
      "source": [
        "x.plot()"
      ],
      "execution_count": 0,
      "outputs": [
        {
          "output_type": "execute_result",
          "data": {
            "text/plain": [
              "<matplotlib.axes._subplots.AxesSubplot at 0x7f0d8427cbe0>"
            ]
          },
          "metadata": {
            "tags": []
          },
          "execution_count": 25
        },
        {
          "output_type": "display_data",
          "data": {
            "image/png": "[encoded data removed]",
            "text/plain": [
              "<Figure size 432x288 with 1 Axes>"
            ]
          },
          "metadata": {
            "tags": []
          }
        }
      ]
    },
    {
      "cell_type": "markdown",
      "metadata": {
        "id": "tF5kvD9bABus",
        "colab_type": "text"
      },
      "source": [
        "# DataFrame"
      ]
    },
    {
      "cell_type": "markdown",
      "metadata": {
        "id": "HqaiSs0OBzv0",
        "colab_type": "text"
      },
      "source": [
        "**DataFrames** são considerados como tabelas de dados."
      ]
    },
    {
      "cell_type": "markdown",
      "metadata": {
        "id": "IQUvPlJ9ABut",
        "colab_type": "text"
      },
      "source": [
        "### pd.DataFrame(self, data=None, index=None, columns=None, dtype=None, copy=False)"
      ]
    },
    {
      "cell_type": "code",
      "metadata": {
        "scrolled": false,
        "id": "JMOO8-SjABuu",
        "colab_type": "code",
        "outputId": "52a80aeb-9b8f-40fd-b20c-d884fc520a5a",
        "colab": {
          "base_uri": "https://localhost:8080/",
          "height": 328
        }
      },
      "source": [
        "data = [1,2,3,4,5,6,7,8,9]\n",
        "df = pd.DataFrame(data, columns=[\"x\"])\n",
        "df"
      ],
      "execution_count": 0,
      "outputs": [
        {
          "output_type": "execute_result",
          "data": {
            "text/html": [
              "<div>\n",
              "<style scoped>\n",
              "    .dataframe tbody tr th:only-of-type {\n",
              "        vertical-align: middle;\n",
              "    }\n",
              "\n",
              "    .dataframe tbody tr th {\n",
              "        vertical-align: top;\n",
              "    }\n",
              "\n",
              "    .dataframe thead th {\n",
              "        text-align: right;\n",
              "    }\n",
              "</style>\n",
              "<table border=\"1\" class=\"dataframe\">\n",
              "  <thead>\n",
              "    <tr style=\"text-align: right;\">\n",
              "      <th></th>\n",
              "      <th>x</th>\n",
              "    </tr>\n",
              "  </thead>\n",
              "  <tbody>\n",
              "    <tr>\n",
              "      <th>0</th>\n",
              "      <td>1</td>\n",
              "    </tr>\n",
              "    <tr>\n",
              "      <th>1</th>\n",
              "      <td>2</td>\n",
              "    </tr>\n",
              "    <tr>\n",
              "      <th>2</th>\n",
              "      <td>3</td>\n",
              "    </tr>\n",
              "    <tr>\n",
              "      <th>3</th>\n",
              "      <td>4</td>\n",
              "    </tr>\n",
              "    <tr>\n",
              "      <th>4</th>\n",
              "      <td>5</td>\n",
              "    </tr>\n",
              "    <tr>\n",
              "      <th>5</th>\n",
              "      <td>6</td>\n",
              "    </tr>\n",
              "    <tr>\n",
              "      <th>6</th>\n",
              "      <td>7</td>\n",
              "    </tr>\n",
              "    <tr>\n",
              "      <th>7</th>\n",
              "      <td>8</td>\n",
              "    </tr>\n",
              "    <tr>\n",
              "      <th>8</th>\n",
              "      <td>9</td>\n",
              "    </tr>\n",
              "  </tbody>\n",
              "</table>\n",
              "</div>"
            ],
            "text/plain": [
              "   x\n",
              "0  1\n",
              "1  2\n",
              "2  3\n",
              "3  4\n",
              "4  5\n",
              "5  6\n",
              "6  7\n",
              "7  8\n",
              "8  9"
            ]
          },
          "metadata": {
            "tags": []
          },
          "execution_count": 26
        }
      ]
    },
    {
      "cell_type": "markdown",
      "metadata": {
        "id": "TkzRn34AABuw",
        "colab_type": "text"
      },
      "source": [
        "### Selecionando dados"
      ]
    },
    {
      "cell_type": "code",
      "metadata": {
        "id": "TJcuzOZ1ABux",
        "colab_type": "code",
        "outputId": "480db73b-565a-45a3-acb4-46978ce86ca3",
        "colab": {
          "base_uri": "https://localhost:8080/",
          "height": 187
        }
      },
      "source": [
        "df[\"x\"]"
      ],
      "execution_count": 0,
      "outputs": [
        {
          "output_type": "execute_result",
          "data": {
            "text/plain": [
              "0    1\n",
              "1    2\n",
              "2    3\n",
              "3    4\n",
              "4    5\n",
              "5    6\n",
              "6    7\n",
              "7    8\n",
              "8    9\n",
              "Name: x, dtype: int64"
            ]
          },
          "metadata": {
            "tags": []
          },
          "execution_count": 27
        }
      ]
    },
    {
      "cell_type": "code",
      "metadata": {
        "id": "D92gYHXWABuz",
        "colab_type": "code",
        "outputId": "ea7f93ab-2287-4caf-f770-d53cb7b98fb4",
        "colab": {
          "base_uri": "https://localhost:8080/",
          "height": 34
        }
      },
      "source": [
        "df[\"x\"][0] # coluna x, linha 0"
      ],
      "execution_count": 0,
      "outputs": [
        {
          "output_type": "execute_result",
          "data": {
            "text/plain": [
              "1"
            ]
          },
          "metadata": {
            "tags": []
          },
          "execution_count": 28
        }
      ]
    },
    {
      "cell_type": "code",
      "metadata": {
        "id": "a0cZfTM6KfQK",
        "colab_type": "code",
        "outputId": "f2e0d882-6251-4065-88e1-9fb4c45fbfab",
        "colab": {
          "base_uri": "https://localhost:8080/",
          "height": 34
        }
      },
      "source": [
        "df.iloc[4, 0] # linha 4, coluna 0"
      ],
      "execution_count": 0,
      "outputs": [
        {
          "output_type": "execute_result",
          "data": {
            "text/plain": [
              "5"
            ]
          },
          "metadata": {
            "tags": []
          },
          "execution_count": 29
        }
      ]
    },
    {
      "cell_type": "code",
      "metadata": {
        "id": "2iplUDdVKoOV",
        "colab_type": "code",
        "outputId": "bdefcd25-6e68-4017-a2b0-4520ac1de830",
        "colab": {
          "base_uri": "https://localhost:8080/",
          "height": 34
        }
      },
      "source": [
        "df.loc[4, 'x'] # índice 4, coluna 'x'"
      ],
      "execution_count": 0,
      "outputs": [
        {
          "output_type": "execute_result",
          "data": {
            "text/plain": [
              "5"
            ]
          },
          "metadata": {
            "tags": []
          },
          "execution_count": 30
        }
      ]
    },
    {
      "cell_type": "markdown",
      "metadata": {
        "id": "jurPp4dlABu1",
        "colab_type": "text"
      },
      "source": [
        "### Adicionando colunas"
      ]
    },
    {
      "cell_type": "code",
      "metadata": {
        "id": "EXcIerNHABu3",
        "colab_type": "code",
        "outputId": "b8084dff-3c90-436b-9cda-474c552aa802",
        "colab": {
          "base_uri": "https://localhost:8080/",
          "height": 328
        }
      },
      "source": [
        "df[\"x_plus_2\"] = df[\"x\"] + 2\n",
        "df"
      ],
      "execution_count": 0,
      "outputs": [
        {
          "output_type": "execute_result",
          "data": {
            "text/html": [
              "<div>\n",
              "<style scoped>\n",
              "    .dataframe tbody tr th:only-of-type {\n",
              "        vertical-align: middle;\n",
              "    }\n",
              "\n",
              "    .dataframe tbody tr th {\n",
              "        vertical-align: top;\n",
              "    }\n",
              "\n",
              "    .dataframe thead th {\n",
              "        text-align: right;\n",
              "    }\n",
              "</style>\n",
              "<table border=\"1\" class=\"dataframe\">\n",
              "  <thead>\n",
              "    <tr style=\"text-align: right;\">\n",
              "      <th></th>\n",
              "      <th>x</th>\n",
              "      <th>x_plus_2</th>\n",
              "    </tr>\n",
              "  </thead>\n",
              "  <tbody>\n",
              "    <tr>\n",
              "      <th>0</th>\n",
              "      <td>1</td>\n",
              "      <td>3</td>\n",
              "    </tr>\n",
              "    <tr>\n",
              "      <th>1</th>\n",
              "      <td>2</td>\n",
              "      <td>4</td>\n",
              "    </tr>\n",
              "    <tr>\n",
              "      <th>2</th>\n",
              "      <td>3</td>\n",
              "      <td>5</td>\n",
              "    </tr>\n",
              "    <tr>\n",
              "      <th>3</th>\n",
              "      <td>4</td>\n",
              "      <td>6</td>\n",
              "    </tr>\n",
              "    <tr>\n",
              "      <th>4</th>\n",
              "      <td>5</td>\n",
              "      <td>7</td>\n",
              "    </tr>\n",
              "    <tr>\n",
              "      <th>5</th>\n",
              "      <td>6</td>\n",
              "      <td>8</td>\n",
              "    </tr>\n",
              "    <tr>\n",
              "      <th>6</th>\n",
              "      <td>7</td>\n",
              "      <td>9</td>\n",
              "    </tr>\n",
              "    <tr>\n",
              "      <th>7</th>\n",
              "      <td>8</td>\n",
              "      <td>10</td>\n",
              "    </tr>\n",
              "    <tr>\n",
              "      <th>8</th>\n",
              "      <td>9</td>\n",
              "      <td>11</td>\n",
              "    </tr>\n",
              "  </tbody>\n",
              "</table>\n",
              "</div>"
            ],
            "text/plain": [
              "   x  x_plus_2\n",
              "0  1         3\n",
              "1  2         4\n",
              "2  3         5\n",
              "3  4         6\n",
              "4  5         7\n",
              "5  6         8\n",
              "6  7         9\n",
              "7  8        10\n",
              "8  9        11"
            ]
          },
          "metadata": {
            "tags": []
          },
          "execution_count": 31
        }
      ]
    },
    {
      "cell_type": "code",
      "metadata": {
        "id": "scoTbWknABu5",
        "colab_type": "code",
        "outputId": "66900c86-4611-4d8d-ec42-f41858ba9a53",
        "colab": {
          "base_uri": "https://localhost:8080/",
          "height": 328
        }
      },
      "source": [
        "df[\"x_square\"] = df[\"x\"] ** 2\n",
        "df[\"x_factorial\"] = df[\"x\"].apply(np.math.factorial)\n",
        "df"
      ],
      "execution_count": 0,
      "outputs": [
        {
          "output_type": "execute_result",
          "data": {
            "text/html": [
              "<div>\n",
              "<style scoped>\n",
              "    .dataframe tbody tr th:only-of-type {\n",
              "        vertical-align: middle;\n",
              "    }\n",
              "\n",
              "    .dataframe tbody tr th {\n",
              "        vertical-align: top;\n",
              "    }\n",
              "\n",
              "    .dataframe thead th {\n",
              "        text-align: right;\n",
              "    }\n",
              "</style>\n",
              "<table border=\"1\" class=\"dataframe\">\n",
              "  <thead>\n",
              "    <tr style=\"text-align: right;\">\n",
              "      <th></th>\n",
              "      <th>x</th>\n",
              "      <th>x_plus_2</th>\n",
              "      <th>x_square</th>\n",
              "      <th>x_factorial</th>\n",
              "    </tr>\n",
              "  </thead>\n",
              "  <tbody>\n",
              "    <tr>\n",
              "      <th>0</th>\n",
              "      <td>1</td>\n",
              "      <td>3</td>\n",
              "      <td>1</td>\n",
              "      <td>1</td>\n",
              "    </tr>\n",
              "    <tr>\n",
              "      <th>1</th>\n",
              "      <td>2</td>\n",
              "      <td>4</td>\n",
              "      <td>4</td>\n",
              "      <td>2</td>\n",
              "    </tr>\n",
              "    <tr>\n",
              "      <th>2</th>\n",
              "      <td>3</td>\n",
              "      <td>5</td>\n",
              "      <td>9</td>\n",
              "      <td>6</td>\n",
              "    </tr>\n",
              "    <tr>\n",
              "      <th>3</th>\n",
              "      <td>4</td>\n",
              "      <td>6</td>\n",
              "      <td>16</td>\n",
              "      <td>24</td>\n",
              "    </tr>\n",
              "    <tr>\n",
              "      <th>4</th>\n",
              "      <td>5</td>\n",
              "      <td>7</td>\n",
              "      <td>25</td>\n",
              "      <td>120</td>\n",
              "    </tr>\n",
              "    <tr>\n",
              "      <th>5</th>\n",
              "      <td>6</td>\n",
              "      <td>8</td>\n",
              "      <td>36</td>\n",
              "      <td>720</td>\n",
              "    </tr>\n",
              "    <tr>\n",
              "      <th>6</th>\n",
              "      <td>7</td>\n",
              "      <td>9</td>\n",
              "      <td>49</td>\n",
              "      <td>5040</td>\n",
              "    </tr>\n",
              "    <tr>\n",
              "      <th>7</th>\n",
              "      <td>8</td>\n",
              "      <td>10</td>\n",
              "      <td>64</td>\n",
              "      <td>40320</td>\n",
              "    </tr>\n",
              "    <tr>\n",
              "      <th>8</th>\n",
              "      <td>9</td>\n",
              "      <td>11</td>\n",
              "      <td>81</td>\n",
              "      <td>362880</td>\n",
              "    </tr>\n",
              "  </tbody>\n",
              "</table>\n",
              "</div>"
            ],
            "text/plain": [
              "   x  x_plus_2  x_square  x_factorial\n",
              "0  1         3         1            1\n",
              "1  2         4         4            2\n",
              "2  3         5         9            6\n",
              "3  4         6        16           24\n",
              "4  5         7        25          120\n",
              "5  6         8        36          720\n",
              "6  7         9        49         5040\n",
              "7  8        10        64        40320\n",
              "8  9        11        81       362880"
            ]
          },
          "metadata": {
            "tags": []
          },
          "execution_count": 32
        }
      ]
    },
    {
      "cell_type": "code",
      "metadata": {
        "id": "bdwyoXYJABu7",
        "colab_type": "code",
        "outputId": "1b67b609-044b-498a-feec-7f30f7ae2b52",
        "colab": {
          "base_uri": "https://localhost:8080/",
          "height": 328
        }
      },
      "source": [
        "df[\"is_even\"] = df[\"x\"] % 2 == 0\n",
        "df"
      ],
      "execution_count": 0,
      "outputs": [
        {
          "output_type": "execute_result",
          "data": {
            "text/html": [
              "<div>\n",
              "<style scoped>\n",
              "    .dataframe tbody tr th:only-of-type {\n",
              "        vertical-align: middle;\n",
              "    }\n",
              "\n",
              "    .dataframe tbody tr th {\n",
              "        vertical-align: top;\n",
              "    }\n",
              "\n",
              "    .dataframe thead th {\n",
              "        text-align: right;\n",
              "    }\n",
              "</style>\n",
              "<table border=\"1\" class=\"dataframe\">\n",
              "  <thead>\n",
              "    <tr style=\"text-align: right;\">\n",
              "      <th></th>\n",
              "      <th>x</th>\n",
              "      <th>x_plus_2</th>\n",
              "      <th>x_square</th>\n",
              "      <th>x_factorial</th>\n",
              "      <th>is_even</th>\n",
              "    </tr>\n",
              "  </thead>\n",
              "  <tbody>\n",
              "    <tr>\n",
              "      <th>0</th>\n",
              "      <td>1</td>\n",
              "      <td>3</td>\n",
              "      <td>1</td>\n",
              "      <td>1</td>\n",
              "      <td>False</td>\n",
              "    </tr>\n",
              "    <tr>\n",
              "      <th>1</th>\n",
              "      <td>2</td>\n",
              "      <td>4</td>\n",
              "      <td>4</td>\n",
              "      <td>2</td>\n",
              "      <td>True</td>\n",
              "    </tr>\n",
              "    <tr>\n",
              "      <th>2</th>\n",
              "      <td>3</td>\n",
              "      <td>5</td>\n",
              "      <td>9</td>\n",
              "      <td>6</td>\n",
              "      <td>False</td>\n",
              "    </tr>\n",
              "    <tr>\n",
              "      <th>3</th>\n",
              "      <td>4</td>\n",
              "      <td>6</td>\n",
              "      <td>16</td>\n",
              "      <td>24</td>\n",
              "      <td>True</td>\n",
              "    </tr>\n",
              "    <tr>\n",
              "      <th>4</th>\n",
              "      <td>5</td>\n",
              "      <td>7</td>\n",
              "      <td>25</td>\n",
              "      <td>120</td>\n",
              "      <td>False</td>\n",
              "    </tr>\n",
              "    <tr>\n",
              "      <th>5</th>\n",
              "      <td>6</td>\n",
              "      <td>8</td>\n",
              "      <td>36</td>\n",
              "      <td>720</td>\n",
              "      <td>True</td>\n",
              "    </tr>\n",
              "    <tr>\n",
              "      <th>6</th>\n",
              "      <td>7</td>\n",
              "      <td>9</td>\n",
              "      <td>49</td>\n",
              "      <td>5040</td>\n",
              "      <td>False</td>\n",
              "    </tr>\n",
              "    <tr>\n",
              "      <th>7</th>\n",
              "      <td>8</td>\n",
              "      <td>10</td>\n",
              "      <td>64</td>\n",
              "      <td>40320</td>\n",
              "      <td>True</td>\n",
              "    </tr>\n",
              "    <tr>\n",
              "      <th>8</th>\n",
              "      <td>9</td>\n",
              "      <td>11</td>\n",
              "      <td>81</td>\n",
              "      <td>362880</td>\n",
              "      <td>False</td>\n",
              "    </tr>\n",
              "  </tbody>\n",
              "</table>\n",
              "</div>"
            ],
            "text/plain": [
              "   x  x_plus_2  x_square  x_factorial  is_even\n",
              "0  1         3         1            1    False\n",
              "1  2         4         4            2     True\n",
              "2  3         5         9            6    False\n",
              "3  4         6        16           24     True\n",
              "4  5         7        25          120    False\n",
              "5  6         8        36          720     True\n",
              "6  7         9        49         5040    False\n",
              "7  8        10        64        40320     True\n",
              "8  9        11        81       362880    False"
            ]
          },
          "metadata": {
            "tags": []
          },
          "execution_count": 33
        }
      ]
    },
    {
      "cell_type": "markdown",
      "metadata": {
        "id": "lHFq-913ABu9",
        "colab_type": "text"
      },
      "source": [
        "### Operações"
      ]
    },
    {
      "cell_type": "markdown",
      "metadata": {
        "id": "rQlSYfWUABu-",
        "colab_type": "text"
      },
      "source": [
        "Algumas operações (como `mean`, `std`, `max`, `min`, etc) não podem ser usadas em todo o DataFrame. Ao invés disso, elas são aplicadas em relação as linhas ou colunas."
      ]
    },
    {
      "cell_type": "code",
      "metadata": {
        "id": "zg44PuBGABu-",
        "colab_type": "code",
        "outputId": "025f6bc0-2243-4385-bb14-29f725423bd4",
        "colab": {
          "base_uri": "https://localhost:8080/",
          "height": 119
        }
      },
      "source": [
        "df.mean() # == df.mean(axis='index')"
      ],
      "execution_count": 0,
      "outputs": [
        {
          "output_type": "execute_result",
          "data": {
            "text/plain": [
              "x                  5.000000\n",
              "x_plus_2           7.000000\n",
              "x_square          31.666667\n",
              "x_factorial    45457.000000\n",
              "is_even            0.444444\n",
              "dtype: float64"
            ]
          },
          "metadata": {
            "tags": []
          },
          "execution_count": 34
        }
      ]
    },
    {
      "cell_type": "code",
      "metadata": {
        "id": "ZrdWALLUABvD",
        "colab_type": "code",
        "outputId": "31cd6fb0-0f73-4ce6-cfec-c423f265690f",
        "colab": {
          "base_uri": "https://localhost:8080/",
          "height": 187
        }
      },
      "source": [
        "df.mean(axis='columns') # a média será aplicada linha-a-linha (ao longo das colunas)"
      ],
      "execution_count": 0,
      "outputs": [
        {
          "output_type": "execute_result",
          "data": {
            "text/plain": [
              "0        1.2\n",
              "1        2.6\n",
              "2        4.6\n",
              "3       10.2\n",
              "4       31.4\n",
              "5      154.2\n",
              "6     1021.0\n",
              "7     8080.6\n",
              "8    72596.2\n",
              "dtype: float64"
            ]
          },
          "metadata": {
            "tags": []
          },
          "execution_count": 35
        }
      ]
    },
    {
      "cell_type": "markdown",
      "metadata": {
        "id": "lqMv5RCoABvG",
        "colab_type": "text"
      },
      "source": [
        "### apply()"
      ]
    },
    {
      "cell_type": "markdown",
      "metadata": {
        "id": "D40xtX-mABvH",
        "colab_type": "text"
      },
      "source": [
        "A diferença entre o `apply` em **Series** e **DataFrames** é que, nos DataFrames, o `apply` é aplicado em cada coluna ao invés de todo o DataFrame. O resultado pode ser um simples scalar ou uma nova *Series*."
      ]
    },
    {
      "cell_type": "code",
      "metadata": {
        "id": "S3PKPL0xABvI",
        "colab_type": "code",
        "outputId": "e0961201-652b-403b-d882-7fef215884d6",
        "colab": {
          "base_uri": "https://localhost:8080/",
          "height": 173
        }
      },
      "source": [
        "df = pd.DataFrame({\n",
        "        'a': [1,2,3,4],\n",
        "        'b': [5,6,7,8]\n",
        "    })\n",
        "df"
      ],
      "execution_count": 0,
      "outputs": [
        {
          "output_type": "execute_result",
          "data": {
            "text/html": [
              "<div>\n",
              "<style scoped>\n",
              "    .dataframe tbody tr th:only-of-type {\n",
              "        vertical-align: middle;\n",
              "    }\n",
              "\n",
              "    .dataframe tbody tr th {\n",
              "        vertical-align: top;\n",
              "    }\n",
              "\n",
              "    .dataframe thead th {\n",
              "        text-align: right;\n",
              "    }\n",
              "</style>\n",
              "<table border=\"1\" class=\"dataframe\">\n",
              "  <thead>\n",
              "    <tr style=\"text-align: right;\">\n",
              "      <th></th>\n",
              "      <th>a</th>\n",
              "      <th>b</th>\n",
              "    </tr>\n",
              "  </thead>\n",
              "  <tbody>\n",
              "    <tr>\n",
              "      <th>0</th>\n",
              "      <td>1</td>\n",
              "      <td>5</td>\n",
              "    </tr>\n",
              "    <tr>\n",
              "      <th>1</th>\n",
              "      <td>2</td>\n",
              "      <td>6</td>\n",
              "    </tr>\n",
              "    <tr>\n",
              "      <th>2</th>\n",
              "      <td>3</td>\n",
              "      <td>7</td>\n",
              "    </tr>\n",
              "    <tr>\n",
              "      <th>3</th>\n",
              "      <td>4</td>\n",
              "      <td>8</td>\n",
              "    </tr>\n",
              "  </tbody>\n",
              "</table>\n",
              "</div>"
            ],
            "text/plain": [
              "   a  b\n",
              "0  1  5\n",
              "1  2  6\n",
              "2  3  7\n",
              "3  4  8"
            ]
          },
          "metadata": {
            "tags": []
          },
          "execution_count": 36
        }
      ]
    },
    {
      "cell_type": "code",
      "metadata": {
        "id": "06F-d9RIABvL",
        "colab_type": "code",
        "outputId": "644ad0aa-14ea-44d3-b719-44ea437adbf0",
        "colab": {
          "base_uri": "https://localhost:8080/",
          "height": 68
        }
      },
      "source": [
        "def second_largest(df):\n",
        "    def second_largest_by_column(values):\n",
        "        return values.sort_values(ascending=False).iloc[1]\n",
        "    return df.apply(second_largest_by_column)\n",
        "print(second_largest(df))"
      ],
      "execution_count": 0,
      "outputs": [
        {
          "output_type": "stream",
          "text": [
            "a    3\n",
            "b    7\n",
            "dtype: int64\n"
          ],
          "name": "stdout"
        }
      ]
    },
    {
      "cell_type": "code",
      "metadata": {
        "id": "F3WAOwtaABvP",
        "colab_type": "code",
        "outputId": "56583fab-998a-442a-ce0d-0a2eed58f906",
        "colab": {
          "base_uri": "https://localhost:8080/",
          "height": 102
        }
      },
      "source": [
        "def standardize(df):\n",
        "    def standardize_c(values):\n",
        "        return (values - values.mean())/values.std(ddof=0)\n",
        "    return df.apply(standardize_c)\n",
        "print(standardize(df))"
      ],
      "execution_count": 0,
      "outputs": [
        {
          "output_type": "stream",
          "text": [
            "          a         b\n",
            "0 -1.341641 -1.341641\n",
            "1 -0.447214 -0.447214\n",
            "2  0.447214  0.447214\n",
            "3  1.341641  1.341641\n"
          ],
          "name": "stdout"
        }
      ]
    },
    {
      "cell_type": "markdown",
      "metadata": {
        "id": "egJJ2QpXABvS",
        "colab_type": "text"
      },
      "source": [
        "### applymap()"
      ]
    },
    {
      "cell_type": "markdown",
      "metadata": {
        "id": "nil2VvaqABvT",
        "colab_type": "text"
      },
      "source": [
        "Por outro lado, se você deseja aplicar um função para cada valor, você deve usar o **applymap()**."
      ]
    },
    {
      "cell_type": "code",
      "metadata": {
        "id": "gWRxFariABvU",
        "colab_type": "code",
        "outputId": "6109786b-9ac3-44df-f5ab-7369b8173427",
        "colab": {
          "base_uri": "https://localhost:8080/",
          "height": 102
        }
      },
      "source": [
        "def add_one(df):\n",
        "    def add_1(value):\n",
        "        return value+1\n",
        "    return df.applymap(add_1)\n",
        "print(add_one(df))"
      ],
      "execution_count": 0,
      "outputs": [
        {
          "output_type": "stream",
          "text": [
            "   a  b\n",
            "0  2  6\n",
            "1  3  7\n",
            "2  4  8\n",
            "3  5  9\n"
          ],
          "name": "stdout"
        }
      ]
    },
    {
      "cell_type": "markdown",
      "metadata": {
        "id": "LkmfzWE6ABvY",
        "colab_type": "text"
      },
      "source": [
        "## Trabalhando com Series e DataFrame juntos"
      ]
    },
    {
      "cell_type": "markdown",
      "metadata": {
        "id": "2YdFAsWPABvZ",
        "colab_type": "text"
      },
      "source": [
        "### Adicionando uma Series à um DataFrame quadrado"
      ]
    },
    {
      "cell_type": "code",
      "metadata": {
        "id": "UGyirrqeABvZ",
        "colab_type": "code",
        "outputId": "c56ebee8-75e7-4440-dc27-2491568b1e88",
        "colab": {
          "base_uri": "https://localhost:8080/",
          "height": 204
        }
      },
      "source": [
        "s = pd.Series([1, 2, 3, 4])\n",
        "df = pd.DataFrame({\n",
        "    0: [10, 20, 30, 40],\n",
        "    1: [50, 60, 70, 80],\n",
        "    2: [90, 100, 110, 120],\n",
        "    3: [130, 140, 150, 160]\n",
        "})\n",
        "\n",
        "print(df, df+s, sep='\\n\\n')"
      ],
      "execution_count": 0,
      "outputs": [
        {
          "output_type": "stream",
          "text": [
            "    0   1    2    3\n",
            "0  10  50   90  130\n",
            "1  20  60  100  140\n",
            "2  30  70  110  150\n",
            "3  40  80  120  160\n",
            "\n",
            "    0   1    2    3\n",
            "0  11  52   93  134\n",
            "1  21  62  103  144\n",
            "2  31  72  113  154\n",
            "3  41  82  123  164\n"
          ],
          "name": "stdout"
        }
      ]
    },
    {
      "cell_type": "markdown",
      "metadata": {
        "id": "-v941fMEABvb",
        "colab_type": "text"
      },
      "source": [
        "### Adicionando uma Series a um DataFrame de uma linha ou coluna"
      ]
    },
    {
      "cell_type": "code",
      "metadata": {
        "id": "L5mb8ql5ABvb",
        "colab_type": "code",
        "outputId": "340b1085-0107-4943-da5b-207d2d73c532",
        "colab": {
          "base_uri": "https://localhost:8080/",
          "height": 102
        }
      },
      "source": [
        "s = pd.Series([1, 2, 3, 4])\n",
        "df = pd.DataFrame({0: [10], 1: [20], 2: [30], 3: [40]})\n",
        "print(df, df+s, sep='\\n\\n')"
      ],
      "execution_count": 0,
      "outputs": [
        {
          "output_type": "stream",
          "text": [
            "    0   1   2   3\n",
            "0  10  20  30  40\n",
            "\n",
            "    0   1   2   3\n",
            "0  11  22  33  44\n"
          ],
          "name": "stdout"
        }
      ]
    },
    {
      "cell_type": "code",
      "metadata": {
        "id": "xpXSv76AABvg",
        "colab_type": "code",
        "outputId": "3cf6f9db-86fe-4918-bede-cf732fd3d2ad",
        "colab": {
          "base_uri": "https://localhost:8080/",
          "height": 204
        }
      },
      "source": [
        "s = pd.Series([1, 2, 3, 4])\n",
        "df = pd.DataFrame({0: [10, 20, 30, 40]})\n",
        "\n",
        "print(df, df+s, sep='\\n\\n') # df+s == df.add(s, axis='columns')"
      ],
      "execution_count": 0,
      "outputs": [
        {
          "output_type": "stream",
          "text": [
            "    0\n",
            "0  10\n",
            "1  20\n",
            "2  30\n",
            "3  40\n",
            "\n",
            "    0   1   2   3\n",
            "0  11 NaN NaN NaN\n",
            "1  21 NaN NaN NaN\n",
            "2  31 NaN NaN NaN\n",
            "3  41 NaN NaN NaN\n"
          ],
          "name": "stdout"
        }
      ]
    },
    {
      "cell_type": "code",
      "metadata": {
        "id": "rkOvFQGMABvi",
        "colab_type": "code",
        "outputId": "53a5a590-247a-48f6-82d0-6b32791fecb2",
        "colab": {
          "base_uri": "https://localhost:8080/",
          "height": 204
        }
      },
      "source": [
        "s = pd.Series([1, 2, 3, 4])\n",
        "df = pd.DataFrame({0: [10, 20, 30, 40]})\n",
        "\n",
        "print(df, df.add(s, axis='index'), sep='\\n\\n')"
      ],
      "execution_count": 0,
      "outputs": [
        {
          "output_type": "stream",
          "text": [
            "    0\n",
            "0  10\n",
            "1  20\n",
            "2  30\n",
            "3  40\n",
            "\n",
            "    0\n",
            "0  11\n",
            "1  22\n",
            "2  33\n",
            "3  44\n"
          ],
          "name": "stdout"
        }
      ]
    },
    {
      "cell_type": "markdown",
      "metadata": {
        "id": "o9BJMypLABvj",
        "colab_type": "text"
      },
      "source": [
        "### Adição quando os nomes das colunas do DataFrame casam com o índice da Series"
      ]
    },
    {
      "cell_type": "code",
      "metadata": {
        "id": "CkPnbqVXABvk",
        "colab_type": "code",
        "outputId": "6cb86088-fa8c-4126-edb5-cacffe9433e6",
        "colab": {
          "base_uri": "https://localhost:8080/",
          "height": 204
        }
      },
      "source": [
        "s = pd.Series([1, 2, 3, 4], index=['a', 'b', 'c', 'd'])\n",
        "df = pd.DataFrame({\n",
        "    'a': [10, 20, 30, 40],\n",
        "    'b': [50, 60, 70, 80],\n",
        "    'c': [90, 100, 110, 120],\n",
        "    'd': [130, 140, 150, 160]\n",
        "})\n",
        "\n",
        "print(df, df+s, sep='\\n\\n')"
      ],
      "execution_count": 0,
      "outputs": [
        {
          "output_type": "stream",
          "text": [
            "    a   b    c    d\n",
            "0  10  50   90  130\n",
            "1  20  60  100  140\n",
            "2  30  70  110  150\n",
            "3  40  80  120  160\n",
            "\n",
            "    a   b    c    d\n",
            "0  11  52   93  134\n",
            "1  21  62  103  144\n",
            "2  31  72  113  154\n",
            "3  41  82  123  164\n"
          ],
          "name": "stdout"
        }
      ]
    },
    {
      "cell_type": "markdown",
      "metadata": {
        "id": "P_ArliVbABvm",
        "colab_type": "text"
      },
      "source": [
        "###Adição quando os nomes das colunas do DataFrame NÃO casam com o índice da Series"
      ]
    },
    {
      "cell_type": "code",
      "metadata": {
        "id": "85SDxNUTABvm",
        "colab_type": "code",
        "outputId": "f2ad2806-61f2-4ffa-dda9-1485414621a1",
        "colab": {
          "base_uri": "https://localhost:8080/",
          "height": 204
        }
      },
      "source": [
        "s = pd.Series([1, 2, 3, 4])\n",
        "df = pd.DataFrame({\n",
        "    'a': [10, 20, 30, 40],\n",
        "    'b': [50, 60, 70, 80],\n",
        "    'c': [90, 100, 110, 120],\n",
        "    'd': [130, 140, 150, 160]\n",
        "})\n",
        "print(df, df+s, sep='\\n\\n')"
      ],
      "execution_count": 0,
      "outputs": [
        {
          "output_type": "stream",
          "text": [
            "    a   b    c    d\n",
            "0  10  50   90  130\n",
            "1  20  60  100  140\n",
            "2  30  70  110  150\n",
            "3  40  80  120  160\n",
            "\n",
            "    a   b   c   d   0   1   2   3\n",
            "0 NaN NaN NaN NaN NaN NaN NaN NaN\n",
            "1 NaN NaN NaN NaN NaN NaN NaN NaN\n",
            "2 NaN NaN NaN NaN NaN NaN NaN NaN\n",
            "3 NaN NaN NaN NaN NaN NaN NaN NaN\n"
          ],
          "name": "stdout"
        }
      ]
    },
    {
      "cell_type": "markdown",
      "metadata": {
        "id": "etV3BDZaABvp",
        "colab_type": "text"
      },
      "source": [
        "## groupby()"
      ]
    },
    {
      "cell_type": "code",
      "metadata": {
        "id": "jjjMhm_1ABvr",
        "colab_type": "code",
        "outputId": "4b437ae4-1786-465e-e42a-b78e7f9845f8",
        "colab": {
          "base_uri": "https://localhost:8080/",
          "height": 266
        }
      },
      "source": [
        "values = np.array([1, 3, 2, 4, 1, 6, 4])\n",
        "df = pd.DataFrame({\n",
        "    'value': values,\n",
        "    'even': values % 2 == 0,\n",
        "    'above_three': values > 3 \n",
        "}, index=['a', 'b', 'c', 'd', 'e', 'f', 'g'])\n",
        "df"
      ],
      "execution_count": 0,
      "outputs": [
        {
          "output_type": "execute_result",
          "data": {
            "text/html": [
              "<div>\n",
              "<style scoped>\n",
              "    .dataframe tbody tr th:only-of-type {\n",
              "        vertical-align: middle;\n",
              "    }\n",
              "\n",
              "    .dataframe tbody tr th {\n",
              "        vertical-align: top;\n",
              "    }\n",
              "\n",
              "    .dataframe thead th {\n",
              "        text-align: right;\n",
              "    }\n",
              "</style>\n",
              "<table border=\"1\" class=\"dataframe\">\n",
              "  <thead>\n",
              "    <tr style=\"text-align: right;\">\n",
              "      <th></th>\n",
              "      <th>value</th>\n",
              "      <th>even</th>\n",
              "      <th>above_three</th>\n",
              "    </tr>\n",
              "  </thead>\n",
              "  <tbody>\n",
              "    <tr>\n",
              "      <th>a</th>\n",
              "      <td>1</td>\n",
              "      <td>False</td>\n",
              "      <td>False</td>\n",
              "    </tr>\n",
              "    <tr>\n",
              "      <th>b</th>\n",
              "      <td>3</td>\n",
              "      <td>False</td>\n",
              "      <td>False</td>\n",
              "    </tr>\n",
              "    <tr>\n",
              "      <th>c</th>\n",
              "      <td>2</td>\n",
              "      <td>True</td>\n",
              "      <td>False</td>\n",
              "    </tr>\n",
              "    <tr>\n",
              "      <th>d</th>\n",
              "      <td>4</td>\n",
              "      <td>True</td>\n",
              "      <td>True</td>\n",
              "    </tr>\n",
              "    <tr>\n",
              "      <th>e</th>\n",
              "      <td>1</td>\n",
              "      <td>False</td>\n",
              "      <td>False</td>\n",
              "    </tr>\n",
              "    <tr>\n",
              "      <th>f</th>\n",
              "      <td>6</td>\n",
              "      <td>True</td>\n",
              "      <td>True</td>\n",
              "    </tr>\n",
              "    <tr>\n",
              "      <th>g</th>\n",
              "      <td>4</td>\n",
              "      <td>True</td>\n",
              "      <td>True</td>\n",
              "    </tr>\n",
              "  </tbody>\n",
              "</table>\n",
              "</div>"
            ],
            "text/plain": [
              "   value   even  above_three\n",
              "a      1  False        False\n",
              "b      3  False        False\n",
              "c      2   True        False\n",
              "d      4   True         True\n",
              "e      1  False        False\n",
              "f      6   True         True\n",
              "g      4   True         True"
            ]
          },
          "metadata": {
            "tags": []
          },
          "execution_count": 46
        }
      ]
    },
    {
      "cell_type": "code",
      "metadata": {
        "id": "2QCXbg06ABvv",
        "colab_type": "code",
        "outputId": "98031eac-7559-4b80-bbce-f91e3dcee633",
        "colab": {
          "base_uri": "https://localhost:8080/",
          "height": 34
        }
      },
      "source": [
        "grouped_data = df.groupby('even')\n",
        "print(grouped_data.groups)"
      ],
      "execution_count": 0,
      "outputs": [
        {
          "output_type": "stream",
          "text": [
            "{False: Index(['a', 'b', 'e'], dtype='object'), True: Index(['c', 'd', 'f', 'g'], dtype='object')}\n"
          ],
          "name": "stdout"
        }
      ]
    },
    {
      "cell_type": "code",
      "metadata": {
        "id": "XRFM43w5ABvw",
        "colab_type": "code",
        "outputId": "6e3bbbc7-62aa-4b51-b866-47fc111b2a03",
        "colab": {
          "base_uri": "https://localhost:8080/",
          "height": 68
        }
      },
      "source": [
        "first_even = df.groupby('even', as_index=False).first()\n",
        "print(first_even['even'])"
      ],
      "execution_count": 0,
      "outputs": [
        {
          "output_type": "stream",
          "text": [
            "0    False\n",
            "1     True\n",
            "Name: even, dtype: bool\n"
          ],
          "name": "stdout"
        }
      ]
    },
    {
      "cell_type": "code",
      "metadata": {
        "id": "9l1-xy5ZABvy",
        "colab_type": "code",
        "outputId": "9aa0f819-0e23-47e3-9521-3bb35a0946dd",
        "colab": {
          "base_uri": "https://localhost:8080/",
          "height": 34
        }
      },
      "source": [
        "# Multiple Columns\n",
        "grouped_data = df.groupby(['even', 'above_three'])\n",
        "print(grouped_data.groups)"
      ],
      "execution_count": 0,
      "outputs": [
        {
          "output_type": "stream",
          "text": [
            "{(False, False): Index(['a', 'b', 'e'], dtype='object'), (True, False): Index(['c'], dtype='object'), (True, True): Index(['d', 'f', 'g'], dtype='object')}\n"
          ],
          "name": "stdout"
        }
      ]
    },
    {
      "cell_type": "code",
      "metadata": {
        "id": "aUoyC-UYABv0",
        "colab_type": "code",
        "outputId": "3440b47b-9545-43ed-d035-abce53f5d532",
        "colab": {
          "base_uri": "https://localhost:8080/",
          "height": 85
        }
      },
      "source": [
        "# Get sum of each group\n",
        "grouped_data = df.groupby('even')\n",
        "print(grouped_data.sum())"
      ],
      "execution_count": 0,
      "outputs": [
        {
          "output_type": "stream",
          "text": [
            "       value  above_three\n",
            "even                     \n",
            "False      5          0.0\n",
            "True      16          3.0\n"
          ],
          "name": "stdout"
        }
      ]
    },
    {
      "cell_type": "code",
      "metadata": {
        "id": "_cThar0mABv4",
        "colab_type": "code",
        "outputId": "6fa6043f-3a5e-40dc-da80-b212cfe1d99b",
        "colab": {
          "base_uri": "https://localhost:8080/",
          "height": 170
        }
      },
      "source": [
        "grouped_data = df.groupby('even')\n",
        "\n",
        "# você pode fazer operações em um ou mais colunas no dataset agrupado\n",
        "print(grouped_data.sum()['value'])\n",
        "print()\n",
        "\n",
        "# você também pode pegar um subset de colunas antes de agrupar os dados.\n",
        "# nesse caso em particular, o resultado é o mesmo\n",
        "print(grouped_data['value'].sum())"
      ],
      "execution_count": 0,
      "outputs": [
        {
          "output_type": "stream",
          "text": [
            "even\n",
            "False     5\n",
            "True     16\n",
            "Name: value, dtype: int64\n",
            "\n",
            "even\n",
            "False     5\n",
            "True     16\n",
            "Name: value, dtype: int64\n"
          ],
          "name": "stdout"
        }
      ]
    },
    {
      "cell_type": "markdown",
      "metadata": {
        "id": "YspGReA9ABv6",
        "colab_type": "text"
      },
      "source": [
        "## map()"
      ]
    },
    {
      "cell_type": "code",
      "metadata": {
        "id": "PxgI9H-nABv6",
        "colab_type": "code",
        "outputId": "cd3bc8bb-0a2a-48ab-9ef4-38b7db1aa014",
        "colab": {
          "base_uri": "https://localhost:8080/",
          "height": 266
        }
      },
      "source": [
        "df[\"odd_even\"] = df[\"even\"].map({False:\"odd\", True:\"even\"})\n",
        "df"
      ],
      "execution_count": 0,
      "outputs": [
        {
          "output_type": "execute_result",
          "data": {
            "text/html": [
              "<div>\n",
              "<style scoped>\n",
              "    .dataframe tbody tr th:only-of-type {\n",
              "        vertical-align: middle;\n",
              "    }\n",
              "\n",
              "    .dataframe tbody tr th {\n",
              "        vertical-align: top;\n",
              "    }\n",
              "\n",
              "    .dataframe thead th {\n",
              "        text-align: right;\n",
              "    }\n",
              "</style>\n",
              "<table border=\"1\" class=\"dataframe\">\n",
              "  <thead>\n",
              "    <tr style=\"text-align: right;\">\n",
              "      <th></th>\n",
              "      <th>value</th>\n",
              "      <th>even</th>\n",
              "      <th>above_three</th>\n",
              "      <th>odd_even</th>\n",
              "    </tr>\n",
              "  </thead>\n",
              "  <tbody>\n",
              "    <tr>\n",
              "      <th>a</th>\n",
              "      <td>1</td>\n",
              "      <td>False</td>\n",
              "      <td>False</td>\n",
              "      <td>odd</td>\n",
              "    </tr>\n",
              "    <tr>\n",
              "      <th>b</th>\n",
              "      <td>3</td>\n",
              "      <td>False</td>\n",
              "      <td>False</td>\n",
              "      <td>odd</td>\n",
              "    </tr>\n",
              "    <tr>\n",
              "      <th>c</th>\n",
              "      <td>2</td>\n",
              "      <td>True</td>\n",
              "      <td>False</td>\n",
              "      <td>even</td>\n",
              "    </tr>\n",
              "    <tr>\n",
              "      <th>d</th>\n",
              "      <td>4</td>\n",
              "      <td>True</td>\n",
              "      <td>True</td>\n",
              "      <td>even</td>\n",
              "    </tr>\n",
              "    <tr>\n",
              "      <th>e</th>\n",
              "      <td>1</td>\n",
              "      <td>False</td>\n",
              "      <td>False</td>\n",
              "      <td>odd</td>\n",
              "    </tr>\n",
              "    <tr>\n",
              "      <th>f</th>\n",
              "      <td>6</td>\n",
              "      <td>True</td>\n",
              "      <td>True</td>\n",
              "      <td>even</td>\n",
              "    </tr>\n",
              "    <tr>\n",
              "      <th>g</th>\n",
              "      <td>4</td>\n",
              "      <td>True</td>\n",
              "      <td>True</td>\n",
              "      <td>even</td>\n",
              "    </tr>\n",
              "  </tbody>\n",
              "</table>\n",
              "</div>"
            ],
            "text/plain": [
              "   value   even  above_three odd_even\n",
              "a      1  False        False      odd\n",
              "b      3  False        False      odd\n",
              "c      2   True        False     even\n",
              "d      4   True         True     even\n",
              "e      1  False        False      odd\n",
              "f      6   True         True     even\n",
              "g      4   True         True     even"
            ]
          },
          "metadata": {
            "tags": []
          },
          "execution_count": 52
        }
      ]
    },
    {
      "cell_type": "markdown",
      "metadata": {
        "id": "rf5LO0omABv8",
        "colab_type": "text"
      },
      "source": [
        "## drop()"
      ]
    },
    {
      "cell_type": "code",
      "metadata": {
        "id": "4XpVpga9ABv9",
        "colab_type": "code",
        "outputId": "661a2a64-6d34-47c5-f6b4-1f275ce6d41a",
        "colab": {
          "base_uri": "https://localhost:8080/",
          "height": 266
        }
      },
      "source": [
        "df = df.drop(\"even\", 1)\n",
        "df"
      ],
      "execution_count": 0,
      "outputs": [
        {
          "output_type": "execute_result",
          "data": {
            "text/html": [
              "<div>\n",
              "<style scoped>\n",
              "    .dataframe tbody tr th:only-of-type {\n",
              "        vertical-align: middle;\n",
              "    }\n",
              "\n",
              "    .dataframe tbody tr th {\n",
              "        vertical-align: top;\n",
              "    }\n",
              "\n",
              "    .dataframe thead th {\n",
              "        text-align: right;\n",
              "    }\n",
              "</style>\n",
              "<table border=\"1\" class=\"dataframe\">\n",
              "  <thead>\n",
              "    <tr style=\"text-align: right;\">\n",
              "      <th></th>\n",
              "      <th>value</th>\n",
              "      <th>above_three</th>\n",
              "      <th>odd_even</th>\n",
              "    </tr>\n",
              "  </thead>\n",
              "  <tbody>\n",
              "    <tr>\n",
              "      <th>a</th>\n",
              "      <td>1</td>\n",
              "      <td>False</td>\n",
              "      <td>odd</td>\n",
              "    </tr>\n",
              "    <tr>\n",
              "      <th>b</th>\n",
              "      <td>3</td>\n",
              "      <td>False</td>\n",
              "      <td>odd</td>\n",
              "    </tr>\n",
              "    <tr>\n",
              "      <th>c</th>\n",
              "      <td>2</td>\n",
              "      <td>False</td>\n",
              "      <td>even</td>\n",
              "    </tr>\n",
              "    <tr>\n",
              "      <th>d</th>\n",
              "      <td>4</td>\n",
              "      <td>True</td>\n",
              "      <td>even</td>\n",
              "    </tr>\n",
              "    <tr>\n",
              "      <th>e</th>\n",
              "      <td>1</td>\n",
              "      <td>False</td>\n",
              "      <td>odd</td>\n",
              "    </tr>\n",
              "    <tr>\n",
              "      <th>f</th>\n",
              "      <td>6</td>\n",
              "      <td>True</td>\n",
              "      <td>even</td>\n",
              "    </tr>\n",
              "    <tr>\n",
              "      <th>g</th>\n",
              "      <td>4</td>\n",
              "      <td>True</td>\n",
              "      <td>even</td>\n",
              "    </tr>\n",
              "  </tbody>\n",
              "</table>\n",
              "</div>"
            ],
            "text/plain": [
              "   value  above_three odd_even\n",
              "a      1        False      odd\n",
              "b      3        False      odd\n",
              "c      2        False     even\n",
              "d      4         True     even\n",
              "e      1        False      odd\n",
              "f      6         True     even\n",
              "g      4         True     even"
            ]
          },
          "metadata": {
            "tags": []
          },
          "execution_count": 53
        }
      ]
    },
    {
      "cell_type": "markdown",
      "metadata": {
        "collapsed": true,
        "id": "0Oj3ZFMbABwA",
        "colab_type": "text"
      },
      "source": [
        "## Multi Columns Select"
      ]
    },
    {
      "cell_type": "code",
      "metadata": {
        "id": "3TIHzWI_ABwA",
        "colab_type": "code",
        "outputId": "c8097092-4299-4ca9-c0c4-971796b29c40",
        "colab": {
          "base_uri": "https://localhost:8080/",
          "height": 266
        }
      },
      "source": [
        "df[[\"value\", \"odd_even\"]] # Pay atemption to double brackets"
      ],
      "execution_count": 0,
      "outputs": [
        {
          "output_type": "execute_result",
          "data": {
            "text/html": [
              "<div>\n",
              "<style scoped>\n",
              "    .dataframe tbody tr th:only-of-type {\n",
              "        vertical-align: middle;\n",
              "    }\n",
              "\n",
              "    .dataframe tbody tr th {\n",
              "        vertical-align: top;\n",
              "    }\n",
              "\n",
              "    .dataframe thead th {\n",
              "        text-align: right;\n",
              "    }\n",
              "</style>\n",
              "<table border=\"1\" class=\"dataframe\">\n",
              "  <thead>\n",
              "    <tr style=\"text-align: right;\">\n",
              "      <th></th>\n",
              "      <th>value</th>\n",
              "      <th>odd_even</th>\n",
              "    </tr>\n",
              "  </thead>\n",
              "  <tbody>\n",
              "    <tr>\n",
              "      <th>a</th>\n",
              "      <td>1</td>\n",
              "      <td>odd</td>\n",
              "    </tr>\n",
              "    <tr>\n",
              "      <th>b</th>\n",
              "      <td>3</td>\n",
              "      <td>odd</td>\n",
              "    </tr>\n",
              "    <tr>\n",
              "      <th>c</th>\n",
              "      <td>2</td>\n",
              "      <td>even</td>\n",
              "    </tr>\n",
              "    <tr>\n",
              "      <th>d</th>\n",
              "      <td>4</td>\n",
              "      <td>even</td>\n",
              "    </tr>\n",
              "    <tr>\n",
              "      <th>e</th>\n",
              "      <td>1</td>\n",
              "      <td>odd</td>\n",
              "    </tr>\n",
              "    <tr>\n",
              "      <th>f</th>\n",
              "      <td>6</td>\n",
              "      <td>even</td>\n",
              "    </tr>\n",
              "    <tr>\n",
              "      <th>g</th>\n",
              "      <td>4</td>\n",
              "      <td>even</td>\n",
              "    </tr>\n",
              "  </tbody>\n",
              "</table>\n",
              "</div>"
            ],
            "text/plain": [
              "   value odd_even\n",
              "a      1      odd\n",
              "b      3      odd\n",
              "c      2     even\n",
              "d      4     even\n",
              "e      1      odd\n",
              "f      6     even\n",
              "g      4     even"
            ]
          },
          "metadata": {
            "tags": []
          },
          "execution_count": 54
        }
      ]
    },
    {
      "cell_type": "markdown",
      "metadata": {
        "id": "nNmQYgw6MCIy",
        "colab_type": "text"
      },
      "source": [
        "## Opções de Exibição"
      ]
    },
    {
      "cell_type": "code",
      "metadata": {
        "id": "of2xM5AwABwH",
        "colab_type": "code",
        "outputId": "3e42f7c2-b282-4171-dde2-14205e035349",
        "colab": {
          "base_uri": "https://localhost:8080/",
          "height": 266
        }
      },
      "source": [
        "pd.options.display.max_columns = 60\n",
        "pd.options.display.max_rows = 20\n",
        "df"
      ],
      "execution_count": 0,
      "outputs": [
        {
          "output_type": "execute_result",
          "data": {
            "text/html": [
              "<div>\n",
              "<style scoped>\n",
              "    .dataframe tbody tr th:only-of-type {\n",
              "        vertical-align: middle;\n",
              "    }\n",
              "\n",
              "    .dataframe tbody tr th {\n",
              "        vertical-align: top;\n",
              "    }\n",
              "\n",
              "    .dataframe thead th {\n",
              "        text-align: right;\n",
              "    }\n",
              "</style>\n",
              "<table border=\"1\" class=\"dataframe\">\n",
              "  <thead>\n",
              "    <tr style=\"text-align: right;\">\n",
              "      <th></th>\n",
              "      <th>value</th>\n",
              "      <th>above_three</th>\n",
              "      <th>odd_even</th>\n",
              "    </tr>\n",
              "  </thead>\n",
              "  <tbody>\n",
              "    <tr>\n",
              "      <th>a</th>\n",
              "      <td>1</td>\n",
              "      <td>False</td>\n",
              "      <td>odd</td>\n",
              "    </tr>\n",
              "    <tr>\n",
              "      <th>b</th>\n",
              "      <td>3</td>\n",
              "      <td>False</td>\n",
              "      <td>odd</td>\n",
              "    </tr>\n",
              "    <tr>\n",
              "      <th>c</th>\n",
              "      <td>2</td>\n",
              "      <td>False</td>\n",
              "      <td>even</td>\n",
              "    </tr>\n",
              "    <tr>\n",
              "      <th>d</th>\n",
              "      <td>4</td>\n",
              "      <td>True</td>\n",
              "      <td>even</td>\n",
              "    </tr>\n",
              "    <tr>\n",
              "      <th>e</th>\n",
              "      <td>1</td>\n",
              "      <td>False</td>\n",
              "      <td>odd</td>\n",
              "    </tr>\n",
              "    <tr>\n",
              "      <th>f</th>\n",
              "      <td>6</td>\n",
              "      <td>True</td>\n",
              "      <td>even</td>\n",
              "    </tr>\n",
              "    <tr>\n",
              "      <th>g</th>\n",
              "      <td>4</td>\n",
              "      <td>True</td>\n",
              "      <td>even</td>\n",
              "    </tr>\n",
              "  </tbody>\n",
              "</table>\n",
              "</div>"
            ],
            "text/plain": [
              "   value  above_three odd_even\n",
              "a      1        False      odd\n",
              "b      3        False      odd\n",
              "c      2        False     even\n",
              "d      4         True     even\n",
              "e      1        False      odd\n",
              "f      6         True     even\n",
              "g      4         True     even"
            ]
          },
          "metadata": {
            "tags": []
          },
          "execution_count": 55
        }
      ]
    },
    {
      "cell_type": "markdown",
      "metadata": {
        "id": "1Rx7pZZoABwK",
        "colab_type": "text"
      },
      "source": [
        "## Filtrando Dados"
      ]
    },
    {
      "cell_type": "code",
      "metadata": {
        "id": "1XxWW0QsABwL",
        "colab_type": "code",
        "outputId": "327a1119-b670-46bd-ab51-60141668ad60",
        "colab": {
          "base_uri": "https://localhost:8080/",
          "height": 142
        }
      },
      "source": [
        "df[df[\"odd_even\"] == \"odd\"]"
      ],
      "execution_count": 0,
      "outputs": [
        {
          "output_type": "execute_result",
          "data": {
            "text/html": [
              "<div>\n",
              "<style scoped>\n",
              "    .dataframe tbody tr th:only-of-type {\n",
              "        vertical-align: middle;\n",
              "    }\n",
              "\n",
              "    .dataframe tbody tr th {\n",
              "        vertical-align: top;\n",
              "    }\n",
              "\n",
              "    .dataframe thead th {\n",
              "        text-align: right;\n",
              "    }\n",
              "</style>\n",
              "<table border=\"1\" class=\"dataframe\">\n",
              "  <thead>\n",
              "    <tr style=\"text-align: right;\">\n",
              "      <th></th>\n",
              "      <th>value</th>\n",
              "      <th>above_three</th>\n",
              "      <th>odd_even</th>\n",
              "    </tr>\n",
              "  </thead>\n",
              "  <tbody>\n",
              "    <tr>\n",
              "      <th>a</th>\n",
              "      <td>1</td>\n",
              "      <td>False</td>\n",
              "      <td>odd</td>\n",
              "    </tr>\n",
              "    <tr>\n",
              "      <th>b</th>\n",
              "      <td>3</td>\n",
              "      <td>False</td>\n",
              "      <td>odd</td>\n",
              "    </tr>\n",
              "    <tr>\n",
              "      <th>e</th>\n",
              "      <td>1</td>\n",
              "      <td>False</td>\n",
              "      <td>odd</td>\n",
              "    </tr>\n",
              "  </tbody>\n",
              "</table>\n",
              "</div>"
            ],
            "text/plain": [
              "   value  above_three odd_even\n",
              "a      1        False      odd\n",
              "b      3        False      odd\n",
              "e      1        False      odd"
            ]
          },
          "metadata": {
            "tags": []
          },
          "execution_count": 56
        }
      ]
    },
    {
      "cell_type": "code",
      "metadata": {
        "id": "lTuKWVg3ABwN",
        "colab_type": "code",
        "outputId": "3a280a3e-3681-474b-997f-6cb71b7cfa3e",
        "colab": {
          "base_uri": "https://localhost:8080/",
          "height": 173
        }
      },
      "source": [
        "df[df.odd_even == \"even\"]"
      ],
      "execution_count": 0,
      "outputs": [
        {
          "output_type": "execute_result",
          "data": {
            "text/html": [
              "<div>\n",
              "<style scoped>\n",
              "    .dataframe tbody tr th:only-of-type {\n",
              "        vertical-align: middle;\n",
              "    }\n",
              "\n",
              "    .dataframe tbody tr th {\n",
              "        vertical-align: top;\n",
              "    }\n",
              "\n",
              "    .dataframe thead th {\n",
              "        text-align: right;\n",
              "    }\n",
              "</style>\n",
              "<table border=\"1\" class=\"dataframe\">\n",
              "  <thead>\n",
              "    <tr style=\"text-align: right;\">\n",
              "      <th></th>\n",
              "      <th>value</th>\n",
              "      <th>above_three</th>\n",
              "      <th>odd_even</th>\n",
              "    </tr>\n",
              "  </thead>\n",
              "  <tbody>\n",
              "    <tr>\n",
              "      <th>c</th>\n",
              "      <td>2</td>\n",
              "      <td>False</td>\n",
              "      <td>even</td>\n",
              "    </tr>\n",
              "    <tr>\n",
              "      <th>d</th>\n",
              "      <td>4</td>\n",
              "      <td>True</td>\n",
              "      <td>even</td>\n",
              "    </tr>\n",
              "    <tr>\n",
              "      <th>f</th>\n",
              "      <td>6</td>\n",
              "      <td>True</td>\n",
              "      <td>even</td>\n",
              "    </tr>\n",
              "    <tr>\n",
              "      <th>g</th>\n",
              "      <td>4</td>\n",
              "      <td>True</td>\n",
              "      <td>even</td>\n",
              "    </tr>\n",
              "  </tbody>\n",
              "</table>\n",
              "</div>"
            ],
            "text/plain": [
              "   value  above_three odd_even\n",
              "c      2        False     even\n",
              "d      4         True     even\n",
              "f      6         True     even\n",
              "g      4         True     even"
            ]
          },
          "metadata": {
            "tags": []
          },
          "execution_count": 57
        }
      ]
    },
    {
      "cell_type": "markdown",
      "metadata": {
        "id": "KsTYBgN9ABwQ",
        "colab_type": "text"
      },
      "source": [
        "### | OR"
      ]
    },
    {
      "cell_type": "code",
      "metadata": {
        "id": "KnGxseEzF9kr",
        "colab_type": "code",
        "outputId": "e6e5d8af-19be-415f-8354-8a3207d55d25",
        "colab": {
          "base_uri": "https://localhost:8080/",
          "height": 266
        }
      },
      "source": [
        "df"
      ],
      "execution_count": 0,
      "outputs": [
        {
          "output_type": "execute_result",
          "data": {
            "text/html": [
              "<div>\n",
              "<style scoped>\n",
              "    .dataframe tbody tr th:only-of-type {\n",
              "        vertical-align: middle;\n",
              "    }\n",
              "\n",
              "    .dataframe tbody tr th {\n",
              "        vertical-align: top;\n",
              "    }\n",
              "\n",
              "    .dataframe thead th {\n",
              "        text-align: right;\n",
              "    }\n",
              "</style>\n",
              "<table border=\"1\" class=\"dataframe\">\n",
              "  <thead>\n",
              "    <tr style=\"text-align: right;\">\n",
              "      <th></th>\n",
              "      <th>value</th>\n",
              "      <th>above_three</th>\n",
              "      <th>odd_even</th>\n",
              "    </tr>\n",
              "  </thead>\n",
              "  <tbody>\n",
              "    <tr>\n",
              "      <th>a</th>\n",
              "      <td>1</td>\n",
              "      <td>False</td>\n",
              "      <td>odd</td>\n",
              "    </tr>\n",
              "    <tr>\n",
              "      <th>b</th>\n",
              "      <td>3</td>\n",
              "      <td>False</td>\n",
              "      <td>odd</td>\n",
              "    </tr>\n",
              "    <tr>\n",
              "      <th>c</th>\n",
              "      <td>2</td>\n",
              "      <td>False</td>\n",
              "      <td>even</td>\n",
              "    </tr>\n",
              "    <tr>\n",
              "      <th>d</th>\n",
              "      <td>4</td>\n",
              "      <td>True</td>\n",
              "      <td>even</td>\n",
              "    </tr>\n",
              "    <tr>\n",
              "      <th>e</th>\n",
              "      <td>1</td>\n",
              "      <td>False</td>\n",
              "      <td>odd</td>\n",
              "    </tr>\n",
              "    <tr>\n",
              "      <th>f</th>\n",
              "      <td>6</td>\n",
              "      <td>True</td>\n",
              "      <td>even</td>\n",
              "    </tr>\n",
              "    <tr>\n",
              "      <th>g</th>\n",
              "      <td>4</td>\n",
              "      <td>True</td>\n",
              "      <td>even</td>\n",
              "    </tr>\n",
              "  </tbody>\n",
              "</table>\n",
              "</div>"
            ],
            "text/plain": [
              "   value  above_three odd_even\n",
              "a      1        False      odd\n",
              "b      3        False      odd\n",
              "c      2        False     even\n",
              "d      4         True     even\n",
              "e      1        False      odd\n",
              "f      6         True     even\n",
              "g      4         True     even"
            ]
          },
          "metadata": {
            "tags": []
          },
          "execution_count": 58
        }
      ]
    },
    {
      "cell_type": "code",
      "metadata": {
        "id": "MlySlJC9ABwR",
        "colab_type": "code",
        "outputId": "8901a5a2-0cd1-420e-ee1d-d0c47b01bc35",
        "colab": {
          "base_uri": "https://localhost:8080/",
          "height": 266
        }
      },
      "source": [
        "df[(df.odd_even == \"even\") | (df.value < 5)]"
      ],
      "execution_count": 0,
      "outputs": [
        {
          "output_type": "execute_result",
          "data": {
            "text/html": [
              "<div>\n",
              "<style scoped>\n",
              "    .dataframe tbody tr th:only-of-type {\n",
              "        vertical-align: middle;\n",
              "    }\n",
              "\n",
              "    .dataframe tbody tr th {\n",
              "        vertical-align: top;\n",
              "    }\n",
              "\n",
              "    .dataframe thead th {\n",
              "        text-align: right;\n",
              "    }\n",
              "</style>\n",
              "<table border=\"1\" class=\"dataframe\">\n",
              "  <thead>\n",
              "    <tr style=\"text-align: right;\">\n",
              "      <th></th>\n",
              "      <th>value</th>\n",
              "      <th>above_three</th>\n",
              "      <th>odd_even</th>\n",
              "    </tr>\n",
              "  </thead>\n",
              "  <tbody>\n",
              "    <tr>\n",
              "      <th>a</th>\n",
              "      <td>1</td>\n",
              "      <td>False</td>\n",
              "      <td>odd</td>\n",
              "    </tr>\n",
              "    <tr>\n",
              "      <th>b</th>\n",
              "      <td>3</td>\n",
              "      <td>False</td>\n",
              "      <td>odd</td>\n",
              "    </tr>\n",
              "    <tr>\n",
              "      <th>c</th>\n",
              "      <td>2</td>\n",
              "      <td>False</td>\n",
              "      <td>even</td>\n",
              "    </tr>\n",
              "    <tr>\n",
              "      <th>d</th>\n",
              "      <td>4</td>\n",
              "      <td>True</td>\n",
              "      <td>even</td>\n",
              "    </tr>\n",
              "    <tr>\n",
              "      <th>e</th>\n",
              "      <td>1</td>\n",
              "      <td>False</td>\n",
              "      <td>odd</td>\n",
              "    </tr>\n",
              "    <tr>\n",
              "      <th>f</th>\n",
              "      <td>6</td>\n",
              "      <td>True</td>\n",
              "      <td>even</td>\n",
              "    </tr>\n",
              "    <tr>\n",
              "      <th>g</th>\n",
              "      <td>4</td>\n",
              "      <td>True</td>\n",
              "      <td>even</td>\n",
              "    </tr>\n",
              "  </tbody>\n",
              "</table>\n",
              "</div>"
            ],
            "text/plain": [
              "   value  above_three odd_even\n",
              "a      1        False      odd\n",
              "b      3        False      odd\n",
              "c      2        False     even\n",
              "d      4         True     even\n",
              "e      1        False      odd\n",
              "f      6         True     even\n",
              "g      4         True     even"
            ]
          },
          "metadata": {
            "tags": []
          },
          "execution_count": 59
        }
      ]
    },
    {
      "cell_type": "markdown",
      "metadata": {
        "id": "40r1SvSnABwV",
        "colab_type": "text"
      },
      "source": [
        "### & And"
      ]
    },
    {
      "cell_type": "code",
      "metadata": {
        "id": "SMgVCCyRABwV",
        "colab_type": "code",
        "outputId": "b9cd0176-4fc7-426a-e6c6-b7cbae614815",
        "colab": {
          "base_uri": "https://localhost:8080/",
          "height": 142
        }
      },
      "source": [
        "df[(df.odd_even == \"even\") & (df.value < 5)]"
      ],
      "execution_count": 0,
      "outputs": [
        {
          "output_type": "execute_result",
          "data": {
            "text/html": [
              "<div>\n",
              "<style scoped>\n",
              "    .dataframe tbody tr th:only-of-type {\n",
              "        vertical-align: middle;\n",
              "    }\n",
              "\n",
              "    .dataframe tbody tr th {\n",
              "        vertical-align: top;\n",
              "    }\n",
              "\n",
              "    .dataframe thead th {\n",
              "        text-align: right;\n",
              "    }\n",
              "</style>\n",
              "<table border=\"1\" class=\"dataframe\">\n",
              "  <thead>\n",
              "    <tr style=\"text-align: right;\">\n",
              "      <th></th>\n",
              "      <th>value</th>\n",
              "      <th>above_three</th>\n",
              "      <th>odd_even</th>\n",
              "    </tr>\n",
              "  </thead>\n",
              "  <tbody>\n",
              "    <tr>\n",
              "      <th>c</th>\n",
              "      <td>2</td>\n",
              "      <td>False</td>\n",
              "      <td>even</td>\n",
              "    </tr>\n",
              "    <tr>\n",
              "      <th>d</th>\n",
              "      <td>4</td>\n",
              "      <td>True</td>\n",
              "      <td>even</td>\n",
              "    </tr>\n",
              "    <tr>\n",
              "      <th>g</th>\n",
              "      <td>4</td>\n",
              "      <td>True</td>\n",
              "      <td>even</td>\n",
              "    </tr>\n",
              "  </tbody>\n",
              "</table>\n",
              "</div>"
            ],
            "text/plain": [
              "   value  above_three odd_even\n",
              "c      2        False     even\n",
              "d      4         True     even\n",
              "g      4         True     even"
            ]
          },
          "metadata": {
            "tags": []
          },
          "execution_count": 60
        }
      ]
    },
    {
      "cell_type": "code",
      "metadata": {
        "id": "bNPMOzwQABwX",
        "colab_type": "code",
        "outputId": "9cad5855-202d-4f58-806f-ff5a095b6c32",
        "colab": {
          "base_uri": "https://localhost:8080/",
          "height": 68
        }
      },
      "source": [
        "df[(df.odd_even == \"even\") & (df.value < 5)][\"above_three\"][:2] # [:n] significa \"retorne os n primeiros valores\" (assim como em listas)"
      ],
      "execution_count": 0,
      "outputs": [
        {
          "output_type": "execute_result",
          "data": {
            "text/plain": [
              "c    False\n",
              "d     True\n",
              "Name: above_three, dtype: bool"
            ]
          },
          "metadata": {
            "tags": []
          },
          "execution_count": 61
        }
      ]
    },
    {
      "cell_type": "markdown",
      "metadata": {
        "id": "k3nDV4sVMNfq",
        "colab_type": "text"
      },
      "source": [
        "> Um detalhe importante sobre o uso de **|** e **&** é que as condições sempre devem estar entre parênteses."
      ]
    },
    {
      "cell_type": "markdown",
      "metadata": {
        "id": "oDbNIs0sABwc",
        "colab_type": "text"
      },
      "source": [
        "# Lendo dados de arquivos CSV"
      ]
    },
    {
      "cell_type": "code",
      "metadata": {
        "id": "KXJ9SjdDABwd",
        "colab_type": "code",
        "outputId": "14316ade-36ba-4a50-d062-bb10cd0f0d76",
        "colab": {
          "base_uri": "https://localhost:8080/",
          "height": 729
        }
      },
      "source": [
        "url = \"https://raw.githubusercontent.com/arnaldog12/Machine_Learning/master/data/medidas.csv\"\n",
        "df = pd.read_csv(url, sep=',', decimal='.') # você pode alterar a url para um arquivo local\n",
        "df"
      ],
      "execution_count": 0,
      "outputs": [
        {
          "output_type": "execute_result",
          "data": {
            "text/html": [
              "<div>\n",
              "<style scoped>\n",
              "    .dataframe tbody tr th:only-of-type {\n",
              "        vertical-align: middle;\n",
              "    }\n",
              "\n",
              "    .dataframe tbody tr th {\n",
              "        vertical-align: top;\n",
              "    }\n",
              "\n",
              "    .dataframe thead th {\n",
              "        text-align: right;\n",
              "    }\n",
              "</style>\n",
              "<table border=\"1\" class=\"dataframe\">\n",
              "  <thead>\n",
              "    <tr style=\"text-align: right;\">\n",
              "      <th></th>\n",
              "      <th>Altura</th>\n",
              "      <th>Peso</th>\n",
              "    </tr>\n",
              "  </thead>\n",
              "  <tbody>\n",
              "    <tr>\n",
              "      <th>0</th>\n",
              "      <td>187</td>\n",
              "      <td>109.72</td>\n",
              "    </tr>\n",
              "    <tr>\n",
              "      <th>1</th>\n",
              "      <td>177</td>\n",
              "      <td>91.09</td>\n",
              "    </tr>\n",
              "    <tr>\n",
              "      <th>2</th>\n",
              "      <td>180</td>\n",
              "      <td>88.93</td>\n",
              "    </tr>\n",
              "    <tr>\n",
              "      <th>3</th>\n",
              "      <td>177</td>\n",
              "      <td>89.39</td>\n",
              "    </tr>\n",
              "    <tr>\n",
              "      <th>4</th>\n",
              "      <td>177</td>\n",
              "      <td>92.02</td>\n",
              "    </tr>\n",
              "    <tr>\n",
              "      <th>5</th>\n",
              "      <td>183</td>\n",
              "      <td>94.70</td>\n",
              "    </tr>\n",
              "    <tr>\n",
              "      <th>6</th>\n",
              "      <td>178</td>\n",
              "      <td>83.57</td>\n",
              "    </tr>\n",
              "    <tr>\n",
              "      <th>7</th>\n",
              "      <td>177</td>\n",
              "      <td>85.19</td>\n",
              "    </tr>\n",
              "    <tr>\n",
              "      <th>8</th>\n",
              "      <td>183</td>\n",
              "      <td>92.96</td>\n",
              "    </tr>\n",
              "    <tr>\n",
              "      <th>9</th>\n",
              "      <td>188</td>\n",
              "      <td>108.21</td>\n",
              "    </tr>\n",
              "    <tr>\n",
              "      <th>...</th>\n",
              "      <td>...</td>\n",
              "      <td>...</td>\n",
              "    </tr>\n",
              "    <tr>\n",
              "      <th>90</th>\n",
              "      <td>148</td>\n",
              "      <td>48.89</td>\n",
              "    </tr>\n",
              "    <tr>\n",
              "      <th>91</th>\n",
              "      <td>160</td>\n",
              "      <td>55.15</td>\n",
              "    </tr>\n",
              "    <tr>\n",
              "      <th>92</th>\n",
              "      <td>162</td>\n",
              "      <td>58.47</td>\n",
              "    </tr>\n",
              "    <tr>\n",
              "      <th>93</th>\n",
              "      <td>159</td>\n",
              "      <td>67.86</td>\n",
              "    </tr>\n",
              "    <tr>\n",
              "      <th>94</th>\n",
              "      <td>170</td>\n",
              "      <td>74.47</td>\n",
              "    </tr>\n",
              "    <tr>\n",
              "      <th>95</th>\n",
              "      <td>166</td>\n",
              "      <td>57.14</td>\n",
              "    </tr>\n",
              "    <tr>\n",
              "      <th>96</th>\n",
              "      <td>165</td>\n",
              "      <td>71.16</td>\n",
              "    </tr>\n",
              "    <tr>\n",
              "      <th>97</th>\n",
              "      <td>159</td>\n",
              "      <td>68.75</td>\n",
              "    </tr>\n",
              "    <tr>\n",
              "      <th>98</th>\n",
              "      <td>159</td>\n",
              "      <td>58.22</td>\n",
              "    </tr>\n",
              "    <tr>\n",
              "      <th>99</th>\n",
              "      <td>167</td>\n",
              "      <td>66.66</td>\n",
              "    </tr>\n",
              "  </tbody>\n",
              "</table>\n",
              "<p>100 rows × 2 columns</p>\n",
              "</div>"
            ],
            "text/plain": [
              "    Altura    Peso\n",
              "0      187  109.72\n",
              "1      177   91.09\n",
              "2      180   88.93\n",
              "3      177   89.39\n",
              "4      177   92.02\n",
              "5      183   94.70\n",
              "6      178   83.57\n",
              "7      177   85.19\n",
              "8      183   92.96\n",
              "9      188  108.21\n",
              "..     ...     ...\n",
              "90     148   48.89\n",
              "91     160   55.15\n",
              "92     162   58.47\n",
              "93     159   67.86\n",
              "94     170   74.47\n",
              "95     166   57.14\n",
              "96     165   71.16\n",
              "97     159   68.75\n",
              "98     159   58.22\n",
              "99     167   66.66\n",
              "\n",
              "[100 rows x 2 columns]"
            ]
          },
          "metadata": {
            "tags": []
          },
          "execution_count": 62
        }
      ]
    },
    {
      "cell_type": "code",
      "metadata": {
        "id": "y1bLw55LABwe",
        "colab_type": "code",
        "outputId": "4358e3e7-2626-406f-df55-c255d49ac4a1",
        "colab": {
          "base_uri": "https://localhost:8080/",
          "height": 297
        }
      },
      "source": [
        "# a funcão `describe` é muito útil pra fazer uma rápida análise descritiva dos dados.\n",
        "df.describe()"
      ],
      "execution_count": 0,
      "outputs": [
        {
          "output_type": "execute_result",
          "data": {
            "text/html": [
              "<div>\n",
              "<style scoped>\n",
              "    .dataframe tbody tr th:only-of-type {\n",
              "        vertical-align: middle;\n",
              "    }\n",
              "\n",
              "    .dataframe tbody tr th {\n",
              "        vertical-align: top;\n",
              "    }\n",
              "\n",
              "    .dataframe thead th {\n",
              "        text-align: right;\n",
              "    }\n",
              "</style>\n",
              "<table border=\"1\" class=\"dataframe\">\n",
              "  <thead>\n",
              "    <tr style=\"text-align: right;\">\n",
              "      <th></th>\n",
              "      <th>Altura</th>\n",
              "      <th>Peso</th>\n",
              "    </tr>\n",
              "  </thead>\n",
              "  <tbody>\n",
              "    <tr>\n",
              "      <th>count</th>\n",
              "      <td>100.00000</td>\n",
              "      <td>100.000000</td>\n",
              "    </tr>\n",
              "    <tr>\n",
              "      <th>mean</th>\n",
              "      <td>168.99000</td>\n",
              "      <td>74.296900</td>\n",
              "    </tr>\n",
              "    <tr>\n",
              "      <th>std</th>\n",
              "      <td>10.64818</td>\n",
              "      <td>15.479705</td>\n",
              "    </tr>\n",
              "    <tr>\n",
              "      <th>min</th>\n",
              "      <td>145.00000</td>\n",
              "      <td>46.310000</td>\n",
              "    </tr>\n",
              "    <tr>\n",
              "      <th>25%</th>\n",
              "      <td>161.00000</td>\n",
              "      <td>61.217500</td>\n",
              "    </tr>\n",
              "    <tr>\n",
              "      <th>50%</th>\n",
              "      <td>169.00000</td>\n",
              "      <td>73.335000</td>\n",
              "    </tr>\n",
              "    <tr>\n",
              "      <th>75%</th>\n",
              "      <td>177.00000</td>\n",
              "      <td>86.350000</td>\n",
              "    </tr>\n",
              "    <tr>\n",
              "      <th>max</th>\n",
              "      <td>194.00000</td>\n",
              "      <td>109.720000</td>\n",
              "    </tr>\n",
              "  </tbody>\n",
              "</table>\n",
              "</div>"
            ],
            "text/plain": [
              "          Altura        Peso\n",
              "count  100.00000  100.000000\n",
              "mean   168.99000   74.296900\n",
              "std     10.64818   15.479705\n",
              "min    145.00000   46.310000\n",
              "25%    161.00000   61.217500\n",
              "50%    169.00000   73.335000\n",
              "75%    177.00000   86.350000\n",
              "max    194.00000  109.720000"
            ]
          },
          "metadata": {
            "tags": []
          },
          "execution_count": 63
        }
      ]
    },
    {
      "cell_type": "markdown",
      "metadata": {
        "id": "u26CPoPK8IO5",
        "colab_type": "text"
      },
      "source": [
        "# Exercícios"
      ]
    },
    {
      "cell_type": "markdown",
      "metadata": {
        "id": "toj4Pucs8Q_9",
        "colab_type": "text"
      },
      "source": [
        "> ⚠️ Todos os exercícios abaixo, utilizam os dados de altura e peso desse último dataframe. Portanto, lembre-se de carregá-los antes de fazer os exercícios."
      ]
    },
    {
      "cell_type": "markdown",
      "metadata": {
        "id": "SBqJC25GFPHQ",
        "colab_type": "text"
      },
      "source": [
        "**1. Calcule a média e o desvio da padrão da altura e do peso de todas as amostras.**"
      ]
    },
    {
      "cell_type": "code",
      "metadata": {
        "id": "2ffWA6FHFPp8",
        "colab_type": "code",
        "outputId": "bdf9f566-f237-4d23-97a4-f79f09e04147",
        "colab": {
          "base_uri": "https://localhost:8080/",
          "height": 85
        }
      },
      "source": [
        "print(\"Média da altura: \", df.mean()[\"Altura\"])\n",
        "print(\"Desvio padrão da altura: \", df.std()[\"Altura\"])\n",
        "print(\"Média do peso: \", df.mean()[\"Peso\"])\n",
        "print(\"Desvio padrão do peso: \", df.std()[\"Peso\"])"
      ],
      "execution_count": 0,
      "outputs": [
        {
          "output_type": "stream",
          "text": [
            "Média da altura:  168.99\n",
            "Desvio padrão da altura:  10.64818000288018\n",
            "Média do peso:  74.29690000000002\n",
            "Desvio padrão do peso:  15.479705364499582\n"
          ],
          "name": "stdout"
        }
      ]
    },
    {
      "cell_type": "markdown",
      "metadata": {
        "id": "gio6FuKp8Lfh",
        "colab_type": "text"
      },
      "source": [
        "**2. Selecione as linhas do dataframe cuja $altura > 180$ e $peso > 80$**."
      ]
    },
    {
      "cell_type": "code",
      "metadata": {
        "id": "tOowyq9Q8KlL",
        "colab_type": "code",
        "outputId": "f055f958-32ec-46bf-8c56-239b96e357b1",
        "colab": {
          "base_uri": "https://localhost:8080/",
          "height": 452
        }
      },
      "source": [
        "df[(df[\"Altura\"] > 180) & (df[\"Peso\"] > 80)]"
      ],
      "execution_count": 0,
      "outputs": [
        {
          "output_type": "execute_result",
          "data": {
            "text/html": [
              "<div>\n",
              "<style scoped>\n",
              "    .dataframe tbody tr th:only-of-type {\n",
              "        vertical-align: middle;\n",
              "    }\n",
              "\n",
              "    .dataframe tbody tr th {\n",
              "        vertical-align: top;\n",
              "    }\n",
              "\n",
              "    .dataframe thead th {\n",
              "        text-align: right;\n",
              "    }\n",
              "</style>\n",
              "<table border=\"1\" class=\"dataframe\">\n",
              "  <thead>\n",
              "    <tr style=\"text-align: right;\">\n",
              "      <th></th>\n",
              "      <th>Altura</th>\n",
              "      <th>Peso</th>\n",
              "    </tr>\n",
              "  </thead>\n",
              "  <tbody>\n",
              "    <tr>\n",
              "      <th>0</th>\n",
              "      <td>187</td>\n",
              "      <td>109.72</td>\n",
              "    </tr>\n",
              "    <tr>\n",
              "      <th>5</th>\n",
              "      <td>183</td>\n",
              "      <td>94.70</td>\n",
              "    </tr>\n",
              "    <tr>\n",
              "      <th>8</th>\n",
              "      <td>183</td>\n",
              "      <td>92.96</td>\n",
              "    </tr>\n",
              "    <tr>\n",
              "      <th>9</th>\n",
              "      <td>188</td>\n",
              "      <td>108.21</td>\n",
              "    </tr>\n",
              "    <tr>\n",
              "      <th>17</th>\n",
              "      <td>182</td>\n",
              "      <td>92.73</td>\n",
              "    </tr>\n",
              "    <tr>\n",
              "      <th>22</th>\n",
              "      <td>183</td>\n",
              "      <td>89.99</td>\n",
              "    </tr>\n",
              "    <tr>\n",
              "      <th>27</th>\n",
              "      <td>185</td>\n",
              "      <td>97.84</td>\n",
              "    </tr>\n",
              "    <tr>\n",
              "      <th>28</th>\n",
              "      <td>186</td>\n",
              "      <td>92.31</td>\n",
              "    </tr>\n",
              "    <tr>\n",
              "      <th>35</th>\n",
              "      <td>184</td>\n",
              "      <td>84.92</td>\n",
              "    </tr>\n",
              "    <tr>\n",
              "      <th>38</th>\n",
              "      <td>188</td>\n",
              "      <td>95.38</td>\n",
              "    </tr>\n",
              "    <tr>\n",
              "      <th>43</th>\n",
              "      <td>191</td>\n",
              "      <td>100.13</td>\n",
              "    </tr>\n",
              "    <tr>\n",
              "      <th>44</th>\n",
              "      <td>194</td>\n",
              "      <td>108.72</td>\n",
              "    </tr>\n",
              "    <tr>\n",
              "      <th>49</th>\n",
              "      <td>187</td>\n",
              "      <td>99.33</td>\n",
              "    </tr>\n",
              "  </tbody>\n",
              "</table>\n",
              "</div>"
            ],
            "text/plain": [
              "    Altura    Peso\n",
              "0      187  109.72\n",
              "5      183   94.70\n",
              "8      183   92.96\n",
              "9      188  108.21\n",
              "17     182   92.73\n",
              "22     183   89.99\n",
              "27     185   97.84\n",
              "28     186   92.31\n",
              "35     184   84.92\n",
              "38     188   95.38\n",
              "43     191  100.13\n",
              "44     194  108.72\n",
              "49     187   99.33"
            ]
          },
          "metadata": {
            "tags": []
          },
          "execution_count": 68
        }
      ]
    },
    {
      "cell_type": "markdown",
      "metadata": {
        "id": "mIdyee0oCpgW",
        "colab_type": "text"
      },
      "source": [
        "**3. Adiciona uma coluna `sexo` no DataFrame indicando se a pessoa é \"homem\" ou \"mulher\". Considere a condição do exercício anterior como o critério de ser \"homem\".**"
      ]
    },
    {
      "cell_type": "code",
      "metadata": {
        "id": "XF_Rq0R5CiJK",
        "colab_type": "code",
        "outputId": "092c0502-b51e-4947-c60e-753335115c1b",
        "colab": {
          "base_uri": "https://localhost:8080/",
          "height": 729
        }
      },
      "source": [
        "def damares(row):\n",
        "  return \"Homem\" if row[\"Altura\"] > 180 and row[\"Peso\"] > 80 else \"Mulher\"\n",
        "\n",
        "df[\"Sexo\"] = df.apply(damares, axis=1)\n",
        "df"
      ],
      "execution_count": 0,
      "outputs": [
        {
          "output_type": "execute_result",
          "data": {
            "text/html": [
              "<div>\n",
              "<style scoped>\n",
              "    .dataframe tbody tr th:only-of-type {\n",
              "        vertical-align: middle;\n",
              "    }\n",
              "\n",
              "    .dataframe tbody tr th {\n",
              "        vertical-align: top;\n",
              "    }\n",
              "\n",
              "    .dataframe thead th {\n",
              "        text-align: right;\n",
              "    }\n",
              "</style>\n",
              "<table border=\"1\" class=\"dataframe\">\n",
              "  <thead>\n",
              "    <tr style=\"text-align: right;\">\n",
              "      <th></th>\n",
              "      <th>Altura</th>\n",
              "      <th>Peso</th>\n",
              "      <th>Sexo</th>\n",
              "    </tr>\n",
              "  </thead>\n",
              "  <tbody>\n",
              "    <tr>\n",
              "      <th>0</th>\n",
              "      <td>187</td>\n",
              "      <td>109.72</td>\n",
              "      <td>Homem</td>\n",
              "    </tr>\n",
              "    <tr>\n",
              "      <th>1</th>\n",
              "      <td>177</td>\n",
              "      <td>91.09</td>\n",
              "      <td>Mulher</td>\n",
              "    </tr>\n",
              "    <tr>\n",
              "      <th>2</th>\n",
              "      <td>180</td>\n",
              "      <td>88.93</td>\n",
              "      <td>Mulher</td>\n",
              "    </tr>\n",
              "    <tr>\n",
              "      <th>3</th>\n",
              "      <td>177</td>\n",
              "      <td>89.39</td>\n",
              "      <td>Mulher</td>\n",
              "    </tr>\n",
              "    <tr>\n",
              "      <th>4</th>\n",
              "      <td>177</td>\n",
              "      <td>92.02</td>\n",
              "      <td>Mulher</td>\n",
              "    </tr>\n",
              "    <tr>\n",
              "      <th>5</th>\n",
              "      <td>183</td>\n",
              "      <td>94.70</td>\n",
              "      <td>Homem</td>\n",
              "    </tr>\n",
              "    <tr>\n",
              "      <th>6</th>\n",
              "      <td>178</td>\n",
              "      <td>83.57</td>\n",
              "      <td>Mulher</td>\n",
              "    </tr>\n",
              "    <tr>\n",
              "      <th>7</th>\n",
              "      <td>177</td>\n",
              "      <td>85.19</td>\n",
              "      <td>Mulher</td>\n",
              "    </tr>\n",
              "    <tr>\n",
              "      <th>8</th>\n",
              "      <td>183</td>\n",
              "      <td>92.96</td>\n",
              "      <td>Homem</td>\n",
              "    </tr>\n",
              "    <tr>\n",
              "      <th>9</th>\n",
              "      <td>188</td>\n",
              "      <td>108.21</td>\n",
              "      <td>Homem</td>\n",
              "    </tr>\n",
              "    <tr>\n",
              "      <th>...</th>\n",
              "      <td>...</td>\n",
              "      <td>...</td>\n",
              "      <td>...</td>\n",
              "    </tr>\n",
              "    <tr>\n",
              "      <th>90</th>\n",
              "      <td>148</td>\n",
              "      <td>48.89</td>\n",
              "      <td>Mulher</td>\n",
              "    </tr>\n",
              "    <tr>\n",
              "      <th>91</th>\n",
              "      <td>160</td>\n",
              "      <td>55.15</td>\n",
              "      <td>Mulher</td>\n",
              "    </tr>\n",
              "    <tr>\n",
              "      <th>92</th>\n",
              "      <td>162</td>\n",
              "      <td>58.47</td>\n",
              "      <td>Mulher</td>\n",
              "    </tr>\n",
              "    <tr>\n",
              "      <th>93</th>\n",
              "      <td>159</td>\n",
              "      <td>67.86</td>\n",
              "      <td>Mulher</td>\n",
              "    </tr>\n",
              "    <tr>\n",
              "      <th>94</th>\n",
              "      <td>170</td>\n",
              "      <td>74.47</td>\n",
              "      <td>Mulher</td>\n",
              "    </tr>\n",
              "    <tr>\n",
              "      <th>95</th>\n",
              "      <td>166</td>\n",
              "      <td>57.14</td>\n",
              "      <td>Mulher</td>\n",
              "    </tr>\n",
              "    <tr>\n",
              "      <th>96</th>\n",
              "      <td>165</td>\n",
              "      <td>71.16</td>\n",
              "      <td>Mulher</td>\n",
              "    </tr>\n",
              "    <tr>\n",
              "      <th>97</th>\n",
              "      <td>159</td>\n",
              "      <td>68.75</td>\n",
              "      <td>Mulher</td>\n",
              "    </tr>\n",
              "    <tr>\n",
              "      <th>98</th>\n",
              "      <td>159</td>\n",
              "      <td>58.22</td>\n",
              "      <td>Mulher</td>\n",
              "    </tr>\n",
              "    <tr>\n",
              "      <th>99</th>\n",
              "      <td>167</td>\n",
              "      <td>66.66</td>\n",
              "      <td>Mulher</td>\n",
              "    </tr>\n",
              "  </tbody>\n",
              "</table>\n",
              "<p>100 rows × 3 columns</p>\n",
              "</div>"
            ],
            "text/plain": [
              "    Altura    Peso    Sexo\n",
              "0      187  109.72   Homem\n",
              "1      177   91.09  Mulher\n",
              "2      180   88.93  Mulher\n",
              "3      177   89.39  Mulher\n",
              "4      177   92.02  Mulher\n",
              "5      183   94.70   Homem\n",
              "6      178   83.57  Mulher\n",
              "7      177   85.19  Mulher\n",
              "8      183   92.96   Homem\n",
              "9      188  108.21   Homem\n",
              "..     ...     ...     ...\n",
              "90     148   48.89  Mulher\n",
              "91     160   55.15  Mulher\n",
              "92     162   58.47  Mulher\n",
              "93     159   67.86  Mulher\n",
              "94     170   74.47  Mulher\n",
              "95     166   57.14  Mulher\n",
              "96     165   71.16  Mulher\n",
              "97     159   68.75  Mulher\n",
              "98     159   58.22  Mulher\n",
              "99     167   66.66  Mulher\n",
              "\n",
              "[100 rows x 3 columns]"
            ]
          },
          "metadata": {
            "tags": []
          },
          "execution_count": 84
        }
      ]
    },
    {
      "cell_type": "markdown",
      "metadata": {
        "id": "spUJgD0iEPpX",
        "colab_type": "text"
      },
      "source": [
        "**4. Utilizando apply, calcule o imc de cada pessoa e coloque o resultado em uma coluna `imc`.**"
      ]
    },
    {
      "cell_type": "code",
      "metadata": {
        "id": "B3PBgtn0Dh_B",
        "colab_type": "code",
        "outputId": "3bb3895b-f7be-4917-ab98-1f3f02708777",
        "colab": {
          "base_uri": "https://localhost:8080/",
          "height": 729
        }
      },
      "source": [
        "def calcula_imc(row):\n",
        "  return row[\"Peso\"] / ((row[\"Altura\"] / 100.0) ** 2)\n",
        "\n",
        "df[\"IMC\"] = df.apply(calcula_imc, axis=1)\n",
        "df"
      ],
      "execution_count": 0,
      "outputs": [
        {
          "output_type": "execute_result",
          "data": {
            "text/html": [
              "<div>\n",
              "<style scoped>\n",
              "    .dataframe tbody tr th:only-of-type {\n",
              "        vertical-align: middle;\n",
              "    }\n",
              "\n",
              "    .dataframe tbody tr th {\n",
              "        vertical-align: top;\n",
              "    }\n",
              "\n",
              "    .dataframe thead th {\n",
              "        text-align: right;\n",
              "    }\n",
              "</style>\n",
              "<table border=\"1\" class=\"dataframe\">\n",
              "  <thead>\n",
              "    <tr style=\"text-align: right;\">\n",
              "      <th></th>\n",
              "      <th>Altura</th>\n",
              "      <th>Peso</th>\n",
              "      <th>Sexo</th>\n",
              "      <th>IMC</th>\n",
              "    </tr>\n",
              "  </thead>\n",
              "  <tbody>\n",
              "    <tr>\n",
              "      <th>0</th>\n",
              "      <td>187</td>\n",
              "      <td>109.72</td>\n",
              "      <td>Homem</td>\n",
              "      <td>31.376362</td>\n",
              "    </tr>\n",
              "    <tr>\n",
              "      <th>1</th>\n",
              "      <td>177</td>\n",
              "      <td>91.09</td>\n",
              "      <td>Mulher</td>\n",
              "      <td>29.075298</td>\n",
              "    </tr>\n",
              "    <tr>\n",
              "      <th>2</th>\n",
              "      <td>180</td>\n",
              "      <td>88.93</td>\n",
              "      <td>Mulher</td>\n",
              "      <td>27.447531</td>\n",
              "    </tr>\n",
              "    <tr>\n",
              "      <th>3</th>\n",
              "      <td>177</td>\n",
              "      <td>89.39</td>\n",
              "      <td>Mulher</td>\n",
              "      <td>28.532669</td>\n",
              "    </tr>\n",
              "    <tr>\n",
              "      <th>4</th>\n",
              "      <td>177</td>\n",
              "      <td>92.02</td>\n",
              "      <td>Mulher</td>\n",
              "      <td>29.372147</td>\n",
              "    </tr>\n",
              "    <tr>\n",
              "      <th>5</th>\n",
              "      <td>183</td>\n",
              "      <td>94.70</td>\n",
              "      <td>Homem</td>\n",
              "      <td>28.277942</td>\n",
              "    </tr>\n",
              "    <tr>\n",
              "      <th>6</th>\n",
              "      <td>178</td>\n",
              "      <td>83.57</td>\n",
              "      <td>Mulher</td>\n",
              "      <td>26.376089</td>\n",
              "    </tr>\n",
              "    <tr>\n",
              "      <th>7</th>\n",
              "      <td>177</td>\n",
              "      <td>85.19</td>\n",
              "      <td>Mulher</td>\n",
              "      <td>27.192058</td>\n",
              "    </tr>\n",
              "    <tr>\n",
              "      <th>8</th>\n",
              "      <td>183</td>\n",
              "      <td>92.96</td>\n",
              "      <td>Homem</td>\n",
              "      <td>27.758368</td>\n",
              "    </tr>\n",
              "    <tr>\n",
              "      <th>9</th>\n",
              "      <td>188</td>\n",
              "      <td>108.21</td>\n",
              "      <td>Homem</td>\n",
              "      <td>30.616229</td>\n",
              "    </tr>\n",
              "    <tr>\n",
              "      <th>...</th>\n",
              "      <td>...</td>\n",
              "      <td>...</td>\n",
              "      <td>...</td>\n",
              "      <td>...</td>\n",
              "    </tr>\n",
              "    <tr>\n",
              "      <th>90</th>\n",
              "      <td>148</td>\n",
              "      <td>48.89</td>\n",
              "      <td>Mulher</td>\n",
              "      <td>22.320124</td>\n",
              "    </tr>\n",
              "    <tr>\n",
              "      <th>91</th>\n",
              "      <td>160</td>\n",
              "      <td>55.15</td>\n",
              "      <td>Mulher</td>\n",
              "      <td>21.542969</td>\n",
              "    </tr>\n",
              "    <tr>\n",
              "      <th>92</th>\n",
              "      <td>162</td>\n",
              "      <td>58.47</td>\n",
              "      <td>Mulher</td>\n",
              "      <td>22.279378</td>\n",
              "    </tr>\n",
              "    <tr>\n",
              "      <th>93</th>\n",
              "      <td>159</td>\n",
              "      <td>67.86</td>\n",
              "      <td>Mulher</td>\n",
              "      <td>26.842293</td>\n",
              "    </tr>\n",
              "    <tr>\n",
              "      <th>94</th>\n",
              "      <td>170</td>\n",
              "      <td>74.47</td>\n",
              "      <td>Mulher</td>\n",
              "      <td>25.768166</td>\n",
              "    </tr>\n",
              "    <tr>\n",
              "      <th>95</th>\n",
              "      <td>166</td>\n",
              "      <td>57.14</td>\n",
              "      <td>Mulher</td>\n",
              "      <td>20.735956</td>\n",
              "    </tr>\n",
              "    <tr>\n",
              "      <th>96</th>\n",
              "      <td>165</td>\n",
              "      <td>71.16</td>\n",
              "      <td>Mulher</td>\n",
              "      <td>26.137741</td>\n",
              "    </tr>\n",
              "    <tr>\n",
              "      <th>97</th>\n",
              "      <td>159</td>\n",
              "      <td>68.75</td>\n",
              "      <td>Mulher</td>\n",
              "      <td>27.194336</td>\n",
              "    </tr>\n",
              "    <tr>\n",
              "      <th>98</th>\n",
              "      <td>159</td>\n",
              "      <td>58.22</td>\n",
              "      <td>Mulher</td>\n",
              "      <td>23.029152</td>\n",
              "    </tr>\n",
              "    <tr>\n",
              "      <th>99</th>\n",
              "      <td>167</td>\n",
              "      <td>66.66</td>\n",
              "      <td>Mulher</td>\n",
              "      <td>23.901897</td>\n",
              "    </tr>\n",
              "  </tbody>\n",
              "</table>\n",
              "<p>100 rows × 4 columns</p>\n",
              "</div>"
            ],
            "text/plain": [
              "    Altura    Peso    Sexo        IMC\n",
              "0      187  109.72   Homem  31.376362\n",
              "1      177   91.09  Mulher  29.075298\n",
              "2      180   88.93  Mulher  27.447531\n",
              "3      177   89.39  Mulher  28.532669\n",
              "4      177   92.02  Mulher  29.372147\n",
              "5      183   94.70   Homem  28.277942\n",
              "6      178   83.57  Mulher  26.376089\n",
              "7      177   85.19  Mulher  27.192058\n",
              "8      183   92.96   Homem  27.758368\n",
              "9      188  108.21   Homem  30.616229\n",
              "..     ...     ...     ...        ...\n",
              "90     148   48.89  Mulher  22.320124\n",
              "91     160   55.15  Mulher  21.542969\n",
              "92     162   58.47  Mulher  22.279378\n",
              "93     159   67.86  Mulher  26.842293\n",
              "94     170   74.47  Mulher  25.768166\n",
              "95     166   57.14  Mulher  20.735956\n",
              "96     165   71.16  Mulher  26.137741\n",
              "97     159   68.75  Mulher  27.194336\n",
              "98     159   58.22  Mulher  23.029152\n",
              "99     167   66.66  Mulher  23.901897\n",
              "\n",
              "[100 rows x 4 columns]"
            ]
          },
          "metadata": {
            "tags": []
          },
          "execution_count": 91
        }
      ]
    },
    {
      "cell_type": "markdown",
      "metadata": {
        "id": "AWGhTDCgF0xw",
        "colab_type": "text"
      },
      "source": [
        "**5. Calcule a média de Altura, Peso e IMC agrupado por sexo**"
      ]
    },
    {
      "cell_type": "code",
      "metadata": {
        "id": "_J4vVHnoEk4z",
        "colab_type": "code",
        "outputId": "0188ea4e-e585-4e04-e9e4-fdf4792ad11d",
        "colab": {
          "base_uri": "https://localhost:8080/",
          "height": 142
        }
      },
      "source": [
        "medias = pd.DataFrame()\n",
        "grouped_df = df.groupby(\"Sexo\")\n",
        "medias[\"Altura\"] = grouped_sex.mean()[\"Altura\"]\n",
        "medias[\"Peso\"] = grouped_sex.mean()[\"Peso\"]\n",
        "medias[\"IMC\"] = grouped_sex.mean()[\"IMC\"]\n",
        "medias.round(2)\n",
        "medias"
      ],
      "execution_count": 0,
      "outputs": [
        {
          "output_type": "execute_result",
          "data": {
            "text/html": [
              "<div>\n",
              "<style scoped>\n",
              "    .dataframe tbody tr th:only-of-type {\n",
              "        vertical-align: middle;\n",
              "    }\n",
              "\n",
              "    .dataframe tbody tr th {\n",
              "        vertical-align: top;\n",
              "    }\n",
              "\n",
              "    .dataframe thead th {\n",
              "        text-align: right;\n",
              "    }\n",
              "</style>\n",
              "<table border=\"1\" class=\"dataframe\">\n",
              "  <thead>\n",
              "    <tr style=\"text-align: right;\">\n",
              "      <th></th>\n",
              "      <th>Altura</th>\n",
              "      <th>Peso</th>\n",
              "      <th>IMC</th>\n",
              "    </tr>\n",
              "    <tr>\n",
              "      <th>Sexo</th>\n",
              "      <th></th>\n",
              "      <th></th>\n",
              "      <th></th>\n",
              "    </tr>\n",
              "  </thead>\n",
              "  <tbody>\n",
              "    <tr>\n",
              "      <th>Homem</th>\n",
              "      <td>186.230769</td>\n",
              "      <td>97.456923</td>\n",
              "      <td>28.074865</td>\n",
              "    </tr>\n",
              "    <tr>\n",
              "      <th>Mulher</th>\n",
              "      <td>166.413793</td>\n",
              "      <td>70.836207</td>\n",
              "      <td>25.325283</td>\n",
              "    </tr>\n",
              "  </tbody>\n",
              "</table>\n",
              "</div>"
            ],
            "text/plain": [
              "            Altura       Peso        IMC\n",
              "Sexo                                    \n",
              "Homem   186.230769  97.456923  28.074865\n",
              "Mulher  166.413793  70.836207  25.325283"
            ]
          },
          "metadata": {
            "tags": []
          },
          "execution_count": 94
        }
      ]
    }
  ]
}